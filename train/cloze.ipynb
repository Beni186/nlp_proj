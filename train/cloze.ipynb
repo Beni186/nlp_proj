{
  "cells": [
    {
      "cell_type": "markdown",
      "source": [
        "# Setup"
      ],
      "metadata": {
        "id": "a9UoZYj0Im9j"
      }
    },
    {
      "cell_type": "code",
      "source": [
        "from google.colab import drive\n",
        "import os\n",
        "\n",
        "drive.mount('/content/gdrive')\n",
        "\n",
        "os.chdir(os.path.join(os.getcwd(), 'gdrive', 'Shareddrives', 'anzi'))"
      ],
      "metadata": {
        "colab": {
          "base_uri": "https://localhost:8080/"
        },
        "id": "BkdetFxfIyE4",
        "outputId": "35179ef6-88fe-496e-820f-337b2bcf6463"
      },
      "execution_count": null,
      "outputs": [
        {
          "output_type": "stream",
          "name": "stdout",
          "text": [
            "Mounted at /content/gdrive\n"
          ]
        }
      ]
    },
    {
      "cell_type": "code",
      "source": [
        "from tensorflow.keras.models import load_model\n",
        "\n",
        "model = load_model('/content/gdrive/Shareddrives/anzi/J/Models')"
      ],
      "metadata": {
        "colab": {
          "base_uri": "https://localhost:8080/",
          "height": 347
        },
        "id": "CPgd1LFQI9OH",
        "outputId": "87598655-e936-4cb9-b860-11940e7030a9"
      },
      "execution_count": null,
      "outputs": [
        {
          "output_type": "error",
          "ename": "OSError",
          "evalue": "ignored",
          "traceback": [
            "\u001b[0;31m---------------------------------------------------------------------------\u001b[0m",
            "\u001b[0;31mOSError\u001b[0m                                   Traceback (most recent call last)",
            "\u001b[0;32m<ipython-input-4-f48937cd1cc1>\u001b[0m in \u001b[0;36m<cell line: 3>\u001b[0;34m()\u001b[0m\n\u001b[1;32m      1\u001b[0m \u001b[0;32mfrom\u001b[0m \u001b[0mtensorflow\u001b[0m\u001b[0;34m.\u001b[0m\u001b[0mkeras\u001b[0m\u001b[0;34m.\u001b[0m\u001b[0mmodels\u001b[0m \u001b[0;32mimport\u001b[0m \u001b[0mload_model\u001b[0m\u001b[0;34m\u001b[0m\u001b[0;34m\u001b[0m\u001b[0m\n\u001b[1;32m      2\u001b[0m \u001b[0;34m\u001b[0m\u001b[0m\n\u001b[0;32m----> 3\u001b[0;31m \u001b[0mmodel\u001b[0m \u001b[0;34m=\u001b[0m \u001b[0mload_model\u001b[0m\u001b[0;34m(\u001b[0m\u001b[0;34m'/content/gdrive/Shareddrives/anzi/J/Models'\u001b[0m\u001b[0;34m)\u001b[0m\u001b[0;34m\u001b[0m\u001b[0;34m\u001b[0m\u001b[0m\n\u001b[0m",
            "\u001b[0;32m/usr/local/lib/python3.10/dist-packages/keras/saving/saving_api.py\u001b[0m in \u001b[0;36mload_model\u001b[0;34m(filepath, custom_objects, compile, safe_mode, **kwargs)\u001b[0m\n\u001b[1;32m    210\u001b[0m \u001b[0;34m\u001b[0m\u001b[0m\n\u001b[1;32m    211\u001b[0m     \u001b[0;31m# Legacy case.\u001b[0m\u001b[0;34m\u001b[0m\u001b[0;34m\u001b[0m\u001b[0m\n\u001b[0;32m--> 212\u001b[0;31m     return legacy_sm_saving_lib.load_model(\n\u001b[0m\u001b[1;32m    213\u001b[0m         \u001b[0mfilepath\u001b[0m\u001b[0;34m,\u001b[0m \u001b[0mcustom_objects\u001b[0m\u001b[0;34m=\u001b[0m\u001b[0mcustom_objects\u001b[0m\u001b[0;34m,\u001b[0m \u001b[0mcompile\u001b[0m\u001b[0;34m=\u001b[0m\u001b[0mcompile\u001b[0m\u001b[0;34m,\u001b[0m \u001b[0;34m**\u001b[0m\u001b[0mkwargs\u001b[0m\u001b[0;34m\u001b[0m\u001b[0;34m\u001b[0m\u001b[0m\n\u001b[1;32m    214\u001b[0m     )\n",
            "\u001b[0;32m/usr/local/lib/python3.10/dist-packages/keras/utils/traceback_utils.py\u001b[0m in \u001b[0;36merror_handler\u001b[0;34m(*args, **kwargs)\u001b[0m\n\u001b[1;32m     68\u001b[0m             \u001b[0;31m# To get the full stack trace, call:\u001b[0m\u001b[0;34m\u001b[0m\u001b[0;34m\u001b[0m\u001b[0m\n\u001b[1;32m     69\u001b[0m             \u001b[0;31m# `tf.debugging.disable_traceback_filtering()`\u001b[0m\u001b[0;34m\u001b[0m\u001b[0;34m\u001b[0m\u001b[0m\n\u001b[0;32m---> 70\u001b[0;31m             \u001b[0;32mraise\u001b[0m \u001b[0me\u001b[0m\u001b[0;34m.\u001b[0m\u001b[0mwith_traceback\u001b[0m\u001b[0;34m(\u001b[0m\u001b[0mfiltered_tb\u001b[0m\u001b[0;34m)\u001b[0m \u001b[0;32mfrom\u001b[0m \u001b[0;32mNone\u001b[0m\u001b[0;34m\u001b[0m\u001b[0;34m\u001b[0m\u001b[0m\n\u001b[0m\u001b[1;32m     71\u001b[0m         \u001b[0;32mfinally\u001b[0m\u001b[0;34m:\u001b[0m\u001b[0;34m\u001b[0m\u001b[0;34m\u001b[0m\u001b[0m\n\u001b[1;32m     72\u001b[0m             \u001b[0;32mdel\u001b[0m \u001b[0mfiltered_tb\u001b[0m\u001b[0;34m\u001b[0m\u001b[0;34m\u001b[0m\u001b[0m\n",
            "\u001b[0;32m/usr/local/lib/python3.10/dist-packages/tensorflow/python/saved_model/loader_impl.py\u001b[0m in \u001b[0;36mparse_saved_model\u001b[0;34m(export_dir)\u001b[0m\n\u001b[1;32m    114\u001b[0m       \u001b[0;32mraise\u001b[0m \u001b[0mIOError\u001b[0m\u001b[0;34m(\u001b[0m\u001b[0;34mf\"Cannot parse file {path_to_pbtxt}: {str(e)}.\"\u001b[0m\u001b[0;34m)\u001b[0m\u001b[0;34m\u001b[0m\u001b[0;34m\u001b[0m\u001b[0m\n\u001b[1;32m    115\u001b[0m   \u001b[0;32melse\u001b[0m\u001b[0;34m:\u001b[0m\u001b[0;34m\u001b[0m\u001b[0;34m\u001b[0m\u001b[0m\n\u001b[0;32m--> 116\u001b[0;31m     raise IOError(\n\u001b[0m\u001b[1;32m    117\u001b[0m         \u001b[0;34mf\"SavedModel file does not exist at: {export_dir}{os.path.sep}\"\u001b[0m\u001b[0;34m\u001b[0m\u001b[0;34m\u001b[0m\u001b[0m\n\u001b[1;32m    118\u001b[0m         \u001b[0;34mf\"{{{constants.SAVED_MODEL_FILENAME_PBTXT}|\"\u001b[0m\u001b[0;34m\u001b[0m\u001b[0;34m\u001b[0m\u001b[0m\n",
            "\u001b[0;31mOSError\u001b[0m: SavedModel file does not exist at: /content/gdrive/Shareddrives/anzi/J/Models/{saved_model.pbtxt|saved_model.pb}"
          ]
        }
      ]
    },
    {
      "cell_type": "code",
      "execution_count": null,
      "metadata": {
        "colab": {
          "base_uri": "https://localhost:8080/"
        },
        "id": "jKYCoG92YGk3",
        "outputId": "5e44931d-a0ea-4cc7-a8f0-ff06832c227c"
      },
      "outputs": [
        {
          "output_type": "stream",
          "name": "stdout",
          "text": [
            "--2023-05-16 13:40:57--  https://github.com/AndyChiangSH/CDGP/raw/main/datasets/CLOTH.zip\n",
            "Resolving github.com (github.com)... 192.30.255.113\n",
            "Connecting to github.com (github.com)|192.30.255.113|:443... connected.\n",
            "HTTP request sent, awaiting response... 302 Found\n",
            "Location: https://raw.githubusercontent.com/AndyChiangSH/CDGP/main/datasets/CLOTH.zip [following]\n",
            "--2023-05-16 13:40:57--  https://raw.githubusercontent.com/AndyChiangSH/CDGP/main/datasets/CLOTH.zip\n",
            "Resolving raw.githubusercontent.com (raw.githubusercontent.com)... 185.199.108.133, 185.199.109.133, 185.199.110.133, ...\n",
            "Connecting to raw.githubusercontent.com (raw.githubusercontent.com)|185.199.108.133|:443... connected.\n",
            "HTTP request sent, awaiting response... 200 OK\n",
            "Length: 13458900 (13M) [application/zip]\n",
            "Saving to: ‘CLOTH.zip.1’\n",
            "\n",
            "CLOTH.zip.1         100%[===================>]  12.83M  61.2MB/s    in 0.2s    \n",
            "\n",
            "2023-05-16 13:40:58 (61.2 MB/s) - ‘CLOTH.zip.1’ saved [13458900/13458900]\n",
            "\n"
          ]
        }
      ],
      "source": [
        "!wget https://github.com/AndyChiangSH/CDGP/raw/main/datasets/CLOTH.zip"
      ]
    },
    {
      "cell_type": "code",
      "execution_count": null,
      "metadata": {
        "id": "tDl7x4-aYIpg"
      },
      "outputs": [],
      "source": [
        "!unzip ./CLOTH.zip -d ./CLOTH"
      ]
    },
    {
      "cell_type": "code",
      "execution_count": null,
      "metadata": {
        "colab": {
          "base_uri": "https://localhost:8080/"
        },
        "id": "EZ62VzbTYR7c",
        "outputId": "a240aff5-13a1-402a-ad93-d59b702846c3"
      },
      "outputs": [
        {
          "output_type": "stream",
          "name": "stdout",
          "text": [
            "76850\n",
            "{'answer': 'sank', 'distractors': ['ached', 'beat', 'rose'], 'sentence': 'My heart  [MASK]  when I was asked to the back room by the immigration officer.'}\n"
          ]
        }
      ],
      "source": [
        "import json\n",
        "\n",
        "with open(\"./CLOTH/CLOTH_train_cleaned.json\", \"r\") as file:\n",
        "    dataset = json.load(file)\n",
        "\n",
        "print(len(dataset))\n",
        "print(dataset[0])"
      ]
    },
    {
      "cell_type": "code",
      "execution_count": null,
      "metadata": {
        "colab": {
          "base_uri": "https://localhost:8080/",
          "height": 49,
          "referenced_widgets": [
            "18bb7acb10d74d949ab3d3157f63ff8e",
            "acf62395e82342479e90a93b70bec3d1",
            "90bb1418eae14ef5bb9329da912d3417",
            "0c918028091a473fa36d9a27a7b94cf7",
            "8cce861f26fa4b7b93ed30a5e4f4db22",
            "7bc73cd8a5454fbb9fafb3c40c8bf8db",
            "187ec9d72a334066aeaf6b5c4da57b03",
            "7566d21efde944cc9ac45b5c3d105611",
            "bf6a0123b0874cc683b3fbaa9ef87c52",
            "3aef59a777114bf9b44e528b80083b93",
            "2049635e53324c06883d35437ecd2c98"
          ]
        },
        "id": "yvn2PiomYl6t",
        "outputId": "e3362441-2614-4171-ddda-7543f114ddf7"
      },
      "outputs": [
        {
          "output_type": "display_data",
          "data": {
            "text/plain": [
              "  0%|          | 0/76850 [00:00<?, ?it/s]"
            ],
            "application/vnd.jupyter.widget-view+json": {
              "version_major": 2,
              "version_minor": 0,
              "model_id": "18bb7acb10d74d949ab3d3157f63ff8e"
            }
          },
          "metadata": {}
        }
      ],
      "source": [
        "from tqdm.notebook import tqdm\n",
        "import os\n",
        "\n",
        "input_list = list()\n",
        "label_list = list()\n",
        "\n",
        "for data in tqdm(dataset):\n",
        "  answer = data[\"answer\"]\n",
        "  distractors = data[\"distractors\"]\n",
        "  sentence = data[\"sentence\"]\n",
        "  mask_sentence = sentence.replace(\"**blank**\", \"[MASK]\")\n",
        "  mask_sentence += \" [SEP] \" + answer\n",
        "  for distractor in distractors:\n",
        "    dis_sentence = mask_sentence.replace(\"[MASK]\", distractor)\n",
        "    input_list.append(mask_sentence)\n",
        "    label_list.append(dis_sentence)"
      ]
    },
    {
      "cell_type": "code",
      "execution_count": null,
      "metadata": {
        "colab": {
          "base_uri": "https://localhost:8080/"
        },
        "id": "BWfMyhbkYoOB",
        "outputId": "a2170db8-37d6-4b65-9d73-2f365239a7bc"
      },
      "outputs": [
        {
          "output_type": "stream",
          "name": "stdout",
          "text": [
            "input_list: 230550\n",
            "['My heart  [MASK]  when I was asked to the back room by the immigration officer. [SEP] sank', 'My heart  [MASK]  when I was asked to the back room by the immigration officer. [SEP] sank', 'My heart  [MASK]  when I was asked to the back room by the immigration officer. [SEP] sank', 'My  [MASK]  , with his very American last name, had no trouble at all. [SEP] husband', 'My  [MASK]  , with his very American last name, had no trouble at all. [SEP] husband', 'My  [MASK]  , with his very American last name, had no trouble at all. [SEP] husband', \"In fact, I am  [MASK]  American born and raised, but they weren't quite ready to let me in yet. [SEP] also\", \"In fact, I am  [MASK]  American born and raised, but they weren't quite ready to let me in yet. [SEP] also\", \"In fact, I am  [MASK]  American born and raised, but they weren't quite ready to let me in yet. [SEP] also\", \"The only reason was  [MASK]  they thought my name looked like the one of  someone  who's on their wanted list and I had to wait till they checked me out  with  Washington. [SEP] that\"]\n"
          ]
        }
      ],
      "source": [
        "print(\"input_list:\", len(input_list))\n",
        "print(input_list[:10])"
      ]
    },
    {
      "cell_type": "code",
      "execution_count": null,
      "metadata": {
        "colab": {
          "base_uri": "https://localhost:8080/"
        },
        "id": "FYoympezZoo_",
        "outputId": "a9304179-230e-4b92-e7af-3a6a06cae79d"
      },
      "outputs": [
        {
          "name": "stdout",
          "output_type": "stream",
          "text": [
            "['My heart  ached  when I was asked to the back room by the immigration officer. [SEP] sank', 'My heart  beat  when I was asked to the back room by the immigration officer. [SEP] sank', 'My heart  rose  when I was asked to the back room by the immigration officer. [SEP] sank', 'My  son  , with his very American last name, had no trouble at all. [SEP] husband', 'My  daughter  , with his very American last name, had no trouble at all. [SEP] husband', 'My  friend  , with his very American last name, had no trouble at all. [SEP] husband', \"In fact, I am  still  American born and raised, but they weren't quite ready to let me in yet. [SEP] also\", \"In fact, I am  already  American born and raised, but they weren't quite ready to let me in yet. [SEP] also\", \"In fact, I am  never  American born and raised, but they weren't quite ready to let me in yet. [SEP] also\", \"The only reason was  because  they thought my name looked like the one of  someone  who's on their wanted list and I had to wait till they checked me out  with  Washington. [SEP] that\"]\n"
          ]
        }
      ],
      "source": [
        "print(label_list[:10])"
      ]
    },
    {
      "cell_type": "markdown",
      "metadata": {
        "id": "weaGIe9Ajcx-"
      },
      "source": [
        "# **Test of 學測:**"
      ]
    },
    {
      "cell_type": "code",
      "execution_count": null,
      "metadata": {
        "colab": {
          "base_uri": "https://localhost:8080/",
          "height": 75
        },
        "id": "bFWRl6KEi9-Y",
        "outputId": "9f00b8c4-507f-439b-9c2b-dc0f0310c338"
      },
      "outputs": [
        {
          "data": {
            "text/html": [
              "\n",
              "     <input type=\"file\" id=\"files-3ce4f83a-a1fd-4cd5-8259-824a39b6e8ba\" name=\"files[]\" multiple disabled\n",
              "        style=\"border:none\" />\n",
              "     <output id=\"result-3ce4f83a-a1fd-4cd5-8259-824a39b6e8ba\">\n",
              "      Upload widget is only available when the cell has been executed in the\n",
              "      current browser session. Please rerun this cell to enable.\n",
              "      </output>\n",
              "      <script>// Copyright 2017 Google LLC\n",
              "//\n",
              "// Licensed under the Apache License, Version 2.0 (the \"License\");\n",
              "// you may not use this file except in compliance with the License.\n",
              "// You may obtain a copy of the License at\n",
              "//\n",
              "//      http://www.apache.org/licenses/LICENSE-2.0\n",
              "//\n",
              "// Unless required by applicable law or agreed to in writing, software\n",
              "// distributed under the License is distributed on an \"AS IS\" BASIS,\n",
              "// WITHOUT WARRANTIES OR CONDITIONS OF ANY KIND, either express or implied.\n",
              "// See the License for the specific language governing permissions and\n",
              "// limitations under the License.\n",
              "\n",
              "/**\n",
              " * @fileoverview Helpers for google.colab Python module.\n",
              " */\n",
              "(function(scope) {\n",
              "function span(text, styleAttributes = {}) {\n",
              "  const element = document.createElement('span');\n",
              "  element.textContent = text;\n",
              "  for (const key of Object.keys(styleAttributes)) {\n",
              "    element.style[key] = styleAttributes[key];\n",
              "  }\n",
              "  return element;\n",
              "}\n",
              "\n",
              "// Max number of bytes which will be uploaded at a time.\n",
              "const MAX_PAYLOAD_SIZE = 100 * 1024;\n",
              "\n",
              "function _uploadFiles(inputId, outputId) {\n",
              "  const steps = uploadFilesStep(inputId, outputId);\n",
              "  const outputElement = document.getElementById(outputId);\n",
              "  // Cache steps on the outputElement to make it available for the next call\n",
              "  // to uploadFilesContinue from Python.\n",
              "  outputElement.steps = steps;\n",
              "\n",
              "  return _uploadFilesContinue(outputId);\n",
              "}\n",
              "\n",
              "// This is roughly an async generator (not supported in the browser yet),\n",
              "// where there are multiple asynchronous steps and the Python side is going\n",
              "// to poll for completion of each step.\n",
              "// This uses a Promise to block the python side on completion of each step,\n",
              "// then passes the result of the previous step as the input to the next step.\n",
              "function _uploadFilesContinue(outputId) {\n",
              "  const outputElement = document.getElementById(outputId);\n",
              "  const steps = outputElement.steps;\n",
              "\n",
              "  const next = steps.next(outputElement.lastPromiseValue);\n",
              "  return Promise.resolve(next.value.promise).then((value) => {\n",
              "    // Cache the last promise value to make it available to the next\n",
              "    // step of the generator.\n",
              "    outputElement.lastPromiseValue = value;\n",
              "    return next.value.response;\n",
              "  });\n",
              "}\n",
              "\n",
              "/**\n",
              " * Generator function which is called between each async step of the upload\n",
              " * process.\n",
              " * @param {string} inputId Element ID of the input file picker element.\n",
              " * @param {string} outputId Element ID of the output display.\n",
              " * @return {!Iterable<!Object>} Iterable of next steps.\n",
              " */\n",
              "function* uploadFilesStep(inputId, outputId) {\n",
              "  const inputElement = document.getElementById(inputId);\n",
              "  inputElement.disabled = false;\n",
              "\n",
              "  const outputElement = document.getElementById(outputId);\n",
              "  outputElement.innerHTML = '';\n",
              "\n",
              "  const pickedPromise = new Promise((resolve) => {\n",
              "    inputElement.addEventListener('change', (e) => {\n",
              "      resolve(e.target.files);\n",
              "    });\n",
              "  });\n",
              "\n",
              "  const cancel = document.createElement('button');\n",
              "  inputElement.parentElement.appendChild(cancel);\n",
              "  cancel.textContent = 'Cancel upload';\n",
              "  const cancelPromise = new Promise((resolve) => {\n",
              "    cancel.onclick = () => {\n",
              "      resolve(null);\n",
              "    };\n",
              "  });\n",
              "\n",
              "  // Wait for the user to pick the files.\n",
              "  const files = yield {\n",
              "    promise: Promise.race([pickedPromise, cancelPromise]),\n",
              "    response: {\n",
              "      action: 'starting',\n",
              "    }\n",
              "  };\n",
              "\n",
              "  cancel.remove();\n",
              "\n",
              "  // Disable the input element since further picks are not allowed.\n",
              "  inputElement.disabled = true;\n",
              "\n",
              "  if (!files) {\n",
              "    return {\n",
              "      response: {\n",
              "        action: 'complete',\n",
              "      }\n",
              "    };\n",
              "  }\n",
              "\n",
              "  for (const file of files) {\n",
              "    const li = document.createElement('li');\n",
              "    li.append(span(file.name, {fontWeight: 'bold'}));\n",
              "    li.append(span(\n",
              "        `(${file.type || 'n/a'}) - ${file.size} bytes, ` +\n",
              "        `last modified: ${\n",
              "            file.lastModifiedDate ? file.lastModifiedDate.toLocaleDateString() :\n",
              "                                    'n/a'} - `));\n",
              "    const percent = span('0% done');\n",
              "    li.appendChild(percent);\n",
              "\n",
              "    outputElement.appendChild(li);\n",
              "\n",
              "    const fileDataPromise = new Promise((resolve) => {\n",
              "      const reader = new FileReader();\n",
              "      reader.onload = (e) => {\n",
              "        resolve(e.target.result);\n",
              "      };\n",
              "      reader.readAsArrayBuffer(file);\n",
              "    });\n",
              "    // Wait for the data to be ready.\n",
              "    let fileData = yield {\n",
              "      promise: fileDataPromise,\n",
              "      response: {\n",
              "        action: 'continue',\n",
              "      }\n",
              "    };\n",
              "\n",
              "    // Use a chunked sending to avoid message size limits. See b/62115660.\n",
              "    let position = 0;\n",
              "    do {\n",
              "      const length = Math.min(fileData.byteLength - position, MAX_PAYLOAD_SIZE);\n",
              "      const chunk = new Uint8Array(fileData, position, length);\n",
              "      position += length;\n",
              "\n",
              "      const base64 = btoa(String.fromCharCode.apply(null, chunk));\n",
              "      yield {\n",
              "        response: {\n",
              "          action: 'append',\n",
              "          file: file.name,\n",
              "          data: base64,\n",
              "        },\n",
              "      };\n",
              "\n",
              "      let percentDone = fileData.byteLength === 0 ?\n",
              "          100 :\n",
              "          Math.round((position / fileData.byteLength) * 100);\n",
              "      percent.textContent = `${percentDone}% done`;\n",
              "\n",
              "    } while (position < fileData.byteLength);\n",
              "  }\n",
              "\n",
              "  // All done.\n",
              "  yield {\n",
              "    response: {\n",
              "      action: 'complete',\n",
              "    }\n",
              "  };\n",
              "}\n",
              "\n",
              "scope.google = scope.google || {};\n",
              "scope.google.colab = scope.google.colab || {};\n",
              "scope.google.colab._files = {\n",
              "  _uploadFiles,\n",
              "  _uploadFilesContinue,\n",
              "};\n",
              "})(self);\n",
              "</script> "
            ],
            "text/plain": [
              "<IPython.core.display.HTML object>"
            ]
          },
          "metadata": {},
          "output_type": "display_data"
        },
        {
          "name": "stdout",
          "output_type": "stream",
          "text": [
            "Saving new_compare.csv to new_compare.csv\n"
          ]
        }
      ],
      "source": [
        "from google.colab import files\n",
        "upload = files.upload()"
      ]
    },
    {
      "cell_type": "code",
      "execution_count": null,
      "metadata": {
        "id": "CtnqSKBui-BW"
      },
      "outputs": [],
      "source": [
        "import pandas as pd\n",
        "data = pd.read_csv('/content/gdrive/Shareddrives/anzi/new_compare.csv').to_dict('index')"
      ]
    },
    {
      "cell_type": "code",
      "execution_count": null,
      "metadata": {
        "colab": {
          "base_uri": "https://localhost:8080/"
        },
        "id": "QHIyGLDOnrx4",
        "outputId": "1a18c4ce-263d-426f-83b2-e24b73cf3b9b"
      },
      "outputs": [
        {
          "output_type": "stream",
          "name": "stdout",
          "text": [
            "{'Year': 111, 'ID': 1, 'Sentence': 'When Jeffery doesn’t feel like cooking, he often orders pizza online and has it [MASK] to his house.', 'Answer': 'B', 'A': 'advanced', 'B': 'delivered', 'C': 'offered', 'D': 'stretched', 'A_similarity': 0.946506679058075, 'B_similarity': 0.9999996423721312, 'C_similarity': 0.951103925704956, 'D_similarity': 0.9456362128257751}\n"
          ]
        }
      ],
      "source": [
        "print(data[0])"
      ]
    },
    {
      "cell_type": "code",
      "execution_count": null,
      "metadata": {
        "colab": {
          "base_uri": "https://localhost:8080/"
        },
        "id": "eJI4zV9vj2U6",
        "outputId": "dc3727c1-92ea-4cce-e3ba-427c6473e3a9"
      },
      "outputs": [
        {
          "output_type": "stream",
          "name": "stdout",
          "text": [
            "['When Jeffery doesn’t feel like cooking, he often orders pizza online and has it [MASK] to his house. [SEP] delivered', 'When Jeffery doesn’t feel like cooking, he often orders pizza online and has it [MASK] to his house. [SEP] delivered', 'When Jeffery doesn’t feel like cooking, he often orders pizza online and has it [MASK] to his house. [SEP] delivered']\n",
            "['When Jeffery doesn’t feel like cooking, he often orders pizza online and has it advanced to his house. [SEP] delivered', 'When Jeffery doesn’t feel like cooking, he often orders pizza online and has it offered to his house. [SEP] delivered', 'When Jeffery doesn’t feel like cooking, he often orders pizza online and has it stretched to his house. [SEP] delivered', 'Jane is the best influence I have ever had. I cannot imagine running my office without her help. [SEP] assistant', 'Jane is the best contribution I have ever had. I cannot imagine running my office without her help. [SEP] assistant', 'Jane is the best politician I have ever had. I cannot imagine running my office without her help. [SEP] assistant', 'The temple celebrated Mazu Festival by hosting ten days of lion dances, Taiwanese operas, and traditional hand chat shows. [SEP] puppet', 'The temple celebrated Mazu Festival by hosting ten days of lion dances, Taiwanese operas, and traditional hand quiz shows. [SEP] puppet', 'The temple celebrated Mazu Festival by hosting ten days of lion dances, Taiwanese operas, and traditional hand variety shows. [SEP] puppet', 'The new vaccine was banned by the Food and Drug Administration due to its fatal delicately side effects. [SEP] potentially']\n"
          ]
        }
      ],
      "source": [
        "cands = []\n",
        "refs = []\n",
        "for i in data:\n",
        "  sen = data[i]['Sentence']\n",
        "  a = sen.replace(\"[MASK]\", data[i]['A']) + \" [SEP] \" + data[i][data[i]['Answer'][:1]]\n",
        "  b = sen.replace(\"[MASK]\", data[i]['B']) + \" [SEP] \" + data[i][data[i]['Answer'][:1]]\n",
        "  c = sen.replace(\"[MASK]\", data[i]['C']) + \" [SEP] \" + data[i][data[i]['Answer'][:1]]\n",
        "  d = sen.replace(\"[MASK]\", data[i]['D']) + \" [SEP] \" + data[i][data[i]['Answer'][:1]]\n",
        "  sen += \" [SEP] \" + data[i][data[i]['Answer'][:1]]\n",
        "  cands.append(sen)\n",
        "  cands.append(sen)\n",
        "  cands.append(sen)\n",
        "  if(data[i]['Answer'][:1] == 'A'):\n",
        "    refs.append(b)\n",
        "    refs.append(c)\n",
        "    refs.append(d)\n",
        "  elif(data[i]['Answer'][:1] == 'B'):\n",
        "    refs.append(a)\n",
        "    refs.append(c)\n",
        "    refs.append(d)\n",
        "  elif(data[i]['Answer'][:1] == 'C'):\n",
        "    refs.append(a)\n",
        "    refs.append(b)\n",
        "    refs.append(d)\n",
        "  elif(data[i]['Answer'][:1] == 'D'):\n",
        "    refs.append(a)\n",
        "    refs.append(b)\n",
        "    refs.append(c)\n",
        "  else:\n",
        "    print(sen)\n",
        "    print(data[i]['Answer'])\n",
        "print(cands[:3])\n",
        "print(refs[:10])"
      ]
    },
    {
      "cell_type": "code",
      "execution_count": null,
      "metadata": {
        "colab": {
          "base_uri": "https://localhost:8080/"
        },
        "id": "6v-_aSvKi5nF",
        "outputId": "df68e8f1-f535-4b9b-89e0-62abd34c8542"
      },
      "outputs": [
        {
          "output_type": "stream",
          "name": "stdout",
          "text": [
            "Looking in indexes: https://pypi.org/simple, https://us-python.pkg.dev/colab-wheels/public/simple/\n",
            "Collecting transformers\n",
            "  Downloading transformers-4.29.1-py3-none-any.whl (7.1 MB)\n",
            "\u001b[2K     \u001b[90m━━━━━━━━━━━━━━━━━━━━━━━━━━━━━━━━━━━━━━━━\u001b[0m \u001b[32m7.1/7.1 MB\u001b[0m \u001b[31m80.3 MB/s\u001b[0m eta \u001b[36m0:00:00\u001b[0m\n",
            "\u001b[?25hCollecting datasets\n",
            "  Downloading datasets-2.12.0-py3-none-any.whl (474 kB)\n",
            "\u001b[2K     \u001b[90m━━━━━━━━━━━━━━━━━━━━━━━━━━━━━━━━━━━━━━\u001b[0m \u001b[32m474.6/474.6 kB\u001b[0m \u001b[31m45.5 MB/s\u001b[0m eta \u001b[36m0:00:00\u001b[0m\n",
            "\u001b[?25hRequirement already satisfied: filelock in /usr/local/lib/python3.10/dist-packages (from transformers) (3.12.0)\n",
            "Collecting huggingface-hub<1.0,>=0.14.1 (from transformers)\n",
            "  Downloading huggingface_hub-0.14.1-py3-none-any.whl (224 kB)\n",
            "\u001b[2K     \u001b[90m━━━━━━━━━━━━━━━━━━━━━━━━━━━━━━━━━━━━━━\u001b[0m \u001b[32m224.5/224.5 kB\u001b[0m \u001b[31m27.8 MB/s\u001b[0m eta \u001b[36m0:00:00\u001b[0m\n",
            "\u001b[?25hRequirement already satisfied: numpy>=1.17 in /usr/local/lib/python3.10/dist-packages (from transformers) (1.22.4)\n",
            "Requirement already satisfied: packaging>=20.0 in /usr/local/lib/python3.10/dist-packages (from transformers) (23.1)\n",
            "Requirement already satisfied: pyyaml>=5.1 in /usr/local/lib/python3.10/dist-packages (from transformers) (6.0)\n",
            "Requirement already satisfied: regex!=2019.12.17 in /usr/local/lib/python3.10/dist-packages (from transformers) (2022.10.31)\n",
            "Requirement already satisfied: requests in /usr/local/lib/python3.10/dist-packages (from transformers) (2.27.1)\n",
            "Collecting tokenizers!=0.11.3,<0.14,>=0.11.1 (from transformers)\n",
            "  Downloading tokenizers-0.13.3-cp310-cp310-manylinux_2_17_x86_64.manylinux2014_x86_64.whl (7.8 MB)\n",
            "\u001b[2K     \u001b[90m━━━━━━━━━━━━━━━━━━━━━━━━━━━━━━━━━━━━━━━━\u001b[0m \u001b[32m7.8/7.8 MB\u001b[0m \u001b[31m121.7 MB/s\u001b[0m eta \u001b[36m0:00:00\u001b[0m\n",
            "\u001b[?25hRequirement already satisfied: tqdm>=4.27 in /usr/local/lib/python3.10/dist-packages (from transformers) (4.65.0)\n",
            "Requirement already satisfied: pyarrow>=8.0.0 in /usr/local/lib/python3.10/dist-packages (from datasets) (9.0.0)\n",
            "Collecting dill<0.3.7,>=0.3.0 (from datasets)\n",
            "  Downloading dill-0.3.6-py3-none-any.whl (110 kB)\n",
            "\u001b[2K     \u001b[90m━━━━━━━━━━━━━━━━━━━━━━━━━━━━━━━━━━━━━━\u001b[0m \u001b[32m110.5/110.5 kB\u001b[0m \u001b[31m16.0 MB/s\u001b[0m eta \u001b[36m0:00:00\u001b[0m\n",
            "\u001b[?25hRequirement already satisfied: pandas in /usr/local/lib/python3.10/dist-packages (from datasets) (1.5.3)\n",
            "Collecting xxhash (from datasets)\n",
            "  Downloading xxhash-3.2.0-cp310-cp310-manylinux_2_17_x86_64.manylinux2014_x86_64.whl (212 kB)\n",
            "\u001b[2K     \u001b[90m━━━━━━━━━━━━━━━━━━━━━━━━━━━━━━━━━━━━━━\u001b[0m \u001b[32m212.5/212.5 kB\u001b[0m \u001b[31m26.6 MB/s\u001b[0m eta \u001b[36m0:00:00\u001b[0m\n",
            "\u001b[?25hCollecting multiprocess (from datasets)\n",
            "  Downloading multiprocess-0.70.14-py310-none-any.whl (134 kB)\n",
            "\u001b[2K     \u001b[90m━━━━━━━━━━━━━━━━━━━━━━━━━━━━━━━━━━━━━━\u001b[0m \u001b[32m134.3/134.3 kB\u001b[0m \u001b[31m18.1 MB/s\u001b[0m eta \u001b[36m0:00:00\u001b[0m\n",
            "\u001b[?25hRequirement already satisfied: fsspec[http]>=2021.11.1 in /usr/local/lib/python3.10/dist-packages (from datasets) (2023.4.0)\n",
            "Collecting aiohttp (from datasets)\n",
            "  Downloading aiohttp-3.8.4-cp310-cp310-manylinux_2_17_x86_64.manylinux2014_x86_64.whl (1.0 MB)\n",
            "\u001b[2K     \u001b[90m━━━━━━━━━━━━━━━━━━━━━━━━━━━━━━━━━━━━━━━━\u001b[0m \u001b[32m1.0/1.0 MB\u001b[0m \u001b[31m62.1 MB/s\u001b[0m eta \u001b[36m0:00:00\u001b[0m\n",
            "\u001b[?25hCollecting responses<0.19 (from datasets)\n",
            "  Downloading responses-0.18.0-py3-none-any.whl (38 kB)\n",
            "Requirement already satisfied: attrs>=17.3.0 in /usr/local/lib/python3.10/dist-packages (from aiohttp->datasets) (23.1.0)\n",
            "Requirement already satisfied: charset-normalizer<4.0,>=2.0 in /usr/local/lib/python3.10/dist-packages (from aiohttp->datasets) (2.0.12)\n",
            "Collecting multidict<7.0,>=4.5 (from aiohttp->datasets)\n",
            "  Downloading multidict-6.0.4-cp310-cp310-manylinux_2_17_x86_64.manylinux2014_x86_64.whl (114 kB)\n",
            "\u001b[2K     \u001b[90m━━━━━━━━━━━━━━━━━━━━━━━━━━━━━━━━━━━━━━\u001b[0m \u001b[32m114.5/114.5 kB\u001b[0m \u001b[31m13.2 MB/s\u001b[0m eta \u001b[36m0:00:00\u001b[0m\n",
            "\u001b[?25hCollecting async-timeout<5.0,>=4.0.0a3 (from aiohttp->datasets)\n",
            "  Downloading async_timeout-4.0.2-py3-none-any.whl (5.8 kB)\n",
            "Collecting yarl<2.0,>=1.0 (from aiohttp->datasets)\n",
            "  Downloading yarl-1.9.2-cp310-cp310-manylinux_2_17_x86_64.manylinux2014_x86_64.whl (268 kB)\n",
            "\u001b[2K     \u001b[90m━━━━━━━━━━━━━━━━━━━━━━━━━━━━━━━━━━━━━━\u001b[0m \u001b[32m268.8/268.8 kB\u001b[0m \u001b[31m34.6 MB/s\u001b[0m eta \u001b[36m0:00:00\u001b[0m\n",
            "\u001b[?25hCollecting frozenlist>=1.1.1 (from aiohttp->datasets)\n",
            "  Downloading frozenlist-1.3.3-cp310-cp310-manylinux_2_5_x86_64.manylinux1_x86_64.manylinux_2_17_x86_64.manylinux2014_x86_64.whl (149 kB)\n",
            "\u001b[2K     \u001b[90m━━━━━━━━━━━━━━━━━━━━━━━━━━━━━━━━━━━━━━\u001b[0m \u001b[32m149.6/149.6 kB\u001b[0m \u001b[31m19.0 MB/s\u001b[0m eta \u001b[36m0:00:00\u001b[0m\n",
            "\u001b[?25hCollecting aiosignal>=1.1.2 (from aiohttp->datasets)\n",
            "  Downloading aiosignal-1.3.1-py3-none-any.whl (7.6 kB)\n",
            "Requirement already satisfied: typing-extensions>=3.7.4.3 in /usr/local/lib/python3.10/dist-packages (from huggingface-hub<1.0,>=0.14.1->transformers) (4.5.0)\n",
            "Requirement already satisfied: urllib3<1.27,>=1.21.1 in /usr/local/lib/python3.10/dist-packages (from requests->transformers) (1.26.15)\n",
            "Requirement already satisfied: certifi>=2017.4.17 in /usr/local/lib/python3.10/dist-packages (from requests->transformers) (2022.12.7)\n",
            "Requirement already satisfied: idna<4,>=2.5 in /usr/local/lib/python3.10/dist-packages (from requests->transformers) (3.4)\n",
            "Requirement already satisfied: python-dateutil>=2.8.1 in /usr/local/lib/python3.10/dist-packages (from pandas->datasets) (2.8.2)\n",
            "Requirement already satisfied: pytz>=2020.1 in /usr/local/lib/python3.10/dist-packages (from pandas->datasets) (2022.7.1)\n",
            "Requirement already satisfied: six>=1.5 in /usr/local/lib/python3.10/dist-packages (from python-dateutil>=2.8.1->pandas->datasets) (1.16.0)\n",
            "Installing collected packages: tokenizers, xxhash, multidict, frozenlist, dill, async-timeout, yarl, responses, multiprocess, huggingface-hub, aiosignal, transformers, aiohttp, datasets\n",
            "Successfully installed aiohttp-3.8.4 aiosignal-1.3.1 async-timeout-4.0.2 datasets-2.12.0 dill-0.3.6 frozenlist-1.3.3 huggingface-hub-0.14.1 multidict-6.0.4 multiprocess-0.70.14 responses-0.18.0 tokenizers-0.13.3 transformers-4.29.1 xxhash-3.2.0 yarl-1.9.2\n"
          ]
        }
      ],
      "source": [
        "!pip install transformers datasets"
      ]
    },
    {
      "cell_type": "markdown",
      "source": [
        "# **back translation data**"
      ],
      "metadata": {
        "id": "5FNv_aTv6BY-"
      }
    },
    {
      "cell_type": "code",
      "source": [
        "import json\n",
        "with open(\"./S/data.json\", \"r\") as file:\n",
        "    translated_dataset = json.load(file)\n",
        "translated = []\n",
        "year = list(translated_dataset['question'].keys())\n",
        "for y in year:\n",
        "    for index in range(len(translated_dataset['question'][y])):\n",
        "        translated.append({'sentence': translated_dataset['question'][y][index], 'answer': translated_dataset['answer'][y][index]})"
      ],
      "metadata": {
        "id": "vsPhZAlS6Kpg"
      },
      "execution_count": null,
      "outputs": []
    },
    {
      "cell_type": "code",
      "source": [
        "print(translated[0:5])"
      ],
      "metadata": {
        "colab": {
          "base_uri": "https://localhost:8080/"
        },
        "id": "FW4YRvX19VQh",
        "outputId": "c3fd3ccf-5519-4053-f0f6-14d47892fddc"
      },
      "execution_count": null,
      "outputs": [
        {
          "output_type": "stream",
          "name": "stdout",
          "text": [
            "[{'sentence': 'I called the airline to strengthen my flight reservation a week before I left for Canada. ', 'answer': 'strengthen'}, {'sentence': 'I called the airline to strengthen my flight reservation a week before I left for Canada.', 'answer': 'strengthen'}, {'sentence': 'In order to write a report on stars, we decided to seize the stars in the sky every night.', 'answer': 'seize'}, {'sentence': 'In order to write a report on the stars, we decided to capture the stars in the sky every night.', 'answer': 'seize'}, {'sentence': 'Julie wants to buy a predictable computer so that she can carry it around when she travels.', 'answer': 'predictable'}]\n"
          ]
        }
      ]
    },
    {
      "cell_type": "markdown",
      "metadata": {
        "id": "5alL8yo76Ez6"
      },
      "source": [
        "# **Fine-tune**"
      ]
    },
    {
      "cell_type": "code",
      "execution_count": null,
      "metadata": {
        "id": "vmWKNpq20rIo"
      },
      "outputs": [],
      "source": [
        "PLM = \"bert-base-uncased\"\n",
        "BATCH_SIZE = 64\n",
        "EPOCH = 1\n",
        "LR = 0.0001\n",
        "MAX_LENGTH = 64"
      ]
    },
    {
      "cell_type": "code",
      "execution_count": null,
      "metadata": {
        "id": "ijdngO6F5eLK"
      },
      "outputs": [],
      "source": [
        "input_list += cands[:915]\n",
        "label_list += refs[:915]"
      ]
    },
    {
      "cell_type": "code",
      "execution_count": null,
      "metadata": {
        "colab": {
          "base_uri": "https://localhost:8080/"
        },
        "id": "NiIcE5_34cXb",
        "outputId": "b66d3c89-b608-40f2-f7f8-dd31c8f319d9"
      },
      "outputs": [
        {
          "output_type": "stream",
          "name": "stdout",
          "text": [
            "231465\n"
          ]
        }
      ],
      "source": [
        "print(len(input_list))"
      ]
    },
    {
      "cell_type": "code",
      "execution_count": null,
      "metadata": {
        "colab": {
          "base_uri": "https://localhost:8080/"
        },
        "id": "N5hK25Ia022b",
        "outputId": "95fd3563-ea3f-45cf-e3cb-7721122e055e"
      },
      "outputs": [
        {
          "output_type": "stream",
          "name": "stdout",
          "text": [
            "['The chairperson of the meeting asked everyone to speak up instead of [MASK] their opinions among themselves [SEP] stingy', 'The chairperson of the meeting asked everyone to speak up instead of [MASK] their opinions among themselves [SEP] stingy', 'The chairperson of the meeting asked everyone to speak up instead of [MASK] their opinions among themselves [SEP] stingy', 'If you want to know what your dreams mean, now there are websites you can visit to help you [MASK] them. [SEP] interpret', 'If you want to know what your dreams mean, now there are websites you can visit to help you [MASK] them. [SEP] interpret', 'If you want to know what your dreams mean, now there are websites you can visit to help you [MASK] them. [SEP] interpret', 'The memory [MASK] of the new computer has been increased so that more information can be stored. [SEP] capacity', 'The memory [MASK] of the new computer has been increased so that more information can be stored. [SEP] capacity', 'The memory [MASK] of the new computer has been increased so that more information can be stored. [SEP] capacity']\n",
            "['The chairperson of the meeting asked everyone to speak up instead of absolute their opinions among themselves [SEP] stingy', 'The chairperson of the meeting asked everyone to speak up instead of precise their opinions among themselves [SEP] stingy', 'The chairperson of the meeting asked everyone to speak up instead of economic their opinions among themselves [SEP] stingy', 'If you want to know what your dreams mean, now there are websites you can visit to help you overcome them. [SEP] interpret', 'If you want to know what your dreams mean, now there are websites you can visit to help you transfer them. [SEP] interpret', 'If you want to know what your dreams mean, now there are websites you can visit to help you revise them. [SEP] interpret', 'The memory occupation of the new computer has been increased so that more information can be stored. [SEP] capacity', 'The memory attachment of the new computer has been increased so that more information can be stored. [SEP] capacity', 'The memory machinery of the new computer has been increased so that more information can be stored. [SEP] capacity']\n"
          ]
        }
      ],
      "source": [
        "print(input_list[-9:])\n",
        "print(label_list[-9:])"
      ]
    },
    {
      "cell_type": "code",
      "execution_count": null,
      "metadata": {
        "id": "8huMA_df6TL4"
      },
      "outputs": [],
      "source": [
        "data_dic = {\"input\": input_list, \"label\": label_list}"
      ]
    },
    {
      "cell_type": "code",
      "execution_count": null,
      "metadata": {
        "id": "tgb19F9I6ZG4"
      },
      "outputs": [],
      "source": [
        "from datasets import Dataset\n",
        "\n",
        "dataset = Dataset.from_dict(data_dic)"
      ]
    },
    {
      "cell_type": "code",
      "execution_count": null,
      "metadata": {
        "colab": {
          "base_uri": "https://localhost:8080/"
        },
        "id": "fIvWPpvB6bV0",
        "outputId": "b7dfb3f8-7ba4-42f9-8a5d-c85c918f476a"
      },
      "outputs": [
        {
          "name": "stdout",
          "output_type": "stream",
          "text": [
            "231465\n"
          ]
        }
      ],
      "source": [
        "print(len(dataset))"
      ]
    },
    {
      "cell_type": "code",
      "execution_count": null,
      "metadata": {
        "id": "frFcOxt76guZ"
      },
      "outputs": [],
      "source": [
        "from torch.utils.data import DataLoader\n",
        "\n",
        "dataloader = DataLoader(dataset, batch_size=BATCH_SIZE, shuffle=True)"
      ]
    },
    {
      "cell_type": "code",
      "execution_count": null,
      "metadata": {
        "colab": {
          "base_uri": "https://localhost:8080/"
        },
        "id": "r__EhgWh6kHE",
        "outputId": "2f2d4aaf-71e3-4323-a037-724b6b443b7b"
      },
      "outputs": [
        {
          "name": "stdout",
          "output_type": "stream",
          "text": [
            "3617\n"
          ]
        }
      ],
      "source": [
        "print(len(dataloader))"
      ]
    },
    {
      "cell_type": "code",
      "execution_count": null,
      "metadata": {
        "id": "Z5xBjFpl6qMB"
      },
      "outputs": [],
      "source": [
        "from transformers import BertTokenizer, BertForMaskedLM\n",
        "import torch\n",
        "\n",
        "tokenizer = BertTokenizer.from_pretrained(PLM)\n",
        "model = BertForMaskedLM.from_pretrained(PLM, return_dict=True)\n",
        "optimizer = torch.optim.Adam(model.parameters(), lr=LR)\n",
        "\n",
        "device = torch.device(\"cuda:0\" if torch.cuda.is_available() else \"cpu\")\n",
        "model.to(device)\n",
        "print(device)"
      ]
    },
    {
      "cell_type": "code",
      "execution_count": null,
      "metadata": {
        "colab": {
          "base_uri": "https://localhost:8080/",
          "height": 66,
          "referenced_widgets": [
            "3ae4adba634b48f7901e0c60d0ed136e",
            "faf092ee6b5c45b9a3f34e47d2dac78d",
            "a510d34b04a64abd8cca444f1ed6b0e5",
            "12aaf70772834972884a57aba8978846",
            "03a415e6e68d413ea2102872d1cfeb39",
            "94110178744d4858a765fafb3281debd",
            "4b7666473d154cb6955d26e5b588bc6d",
            "7d50c2fd52d648af8ad10c5047f9bd02",
            "5265a5b7a1e04e5b9d7cae14cfcc22b9",
            "e062424728b24442b00484eb8cb0edb0",
            "5071e9437b3741dd97d0b509949b41b2"
          ]
        },
        "id": "8L0jZdOb7ALo",
        "outputId": "cd73a5ca-1856-433e-df2e-341000666090"
      },
      "outputs": [
        {
          "output_type": "display_data",
          "data": {
            "text/plain": [
              "  0%|          | 0/3617 [00:00<?, ?it/s]"
            ],
            "application/vnd.jupyter.widget-view+json": {
              "version_major": 2,
              "version_minor": 0,
              "model_id": "3ae4adba634b48f7901e0c60d0ed136e"
            }
          },
          "metadata": {}
        },
        {
          "output_type": "stream",
          "name": "stdout",
          "text": [
            "[epoch 1] loss: 0.10683659464120865\n"
          ]
        }
      ],
      "source": [
        "num_training_steps = EPOCH * len(dataloader)\n",
        "progress_bar = tqdm(range(num_training_steps))\n",
        "\n",
        "# start fine-tune\n",
        "loss_history = []\n",
        "for epoch in range(EPOCH):\n",
        "  for batch in dataloader:\n",
        "    inputs = tokenizer(batch[\"input\"], truncation=True, padding=\"max_length\", max_length=MAX_LENGTH, return_tensors=\"pt\")\n",
        "    labels = tokenizer(batch[\"label\"], truncation=True, padding=\"max_length\", max_length=MAX_LENGTH, return_tensors=\"pt\")[\"input_ids\"]\n",
        "    output = model(**inputs.to(device), labels=labels.to(device))\n",
        "    optimizer.zero_grad()\n",
        "    loss = output.loss\n",
        "    logits = output.logits\n",
        "    loss_history.append(loss.item())\n",
        "    loss.backward()\n",
        "    optimizer.step()\n",
        "    progress_bar.update(1)\n",
        "\n",
        "  print(f\"[epoch {epoch+1}] loss: {loss.item()}\")"
      ]
    },
    {
      "cell_type": "code",
      "execution_count": null,
      "metadata": {
        "id": "CNCt8ir6H93i",
        "colab": {
          "base_uri": "https://localhost:8080/"
        },
        "outputId": "51b718a4-7e26-4bdb-88c0-b8936af546ad"
      },
      "outputs": [
        {
          "output_type": "stream",
          "name": "stdout",
          "text": [
            "[13.202751159667969, 9.388644218444824, 7.000543594360352, 5.9556169509887695, 4.733419895172119, 4.227158069610596, 3.8525500297546387, 2.9802026748657227, 2.766374111175537, 2.2300209999084473, 2.1343753337860107, 1.3073012828826904, 1.2225110530853271, 0.7891514301300049, 0.7447536587715149, 0.7277042269706726, 0.6026650071144104, 0.4966185390949249, 0.4697289764881134, 0.6612048745155334, 0.4104471802711487, 0.25667935609817505, 0.20653334259986877, 0.37925758957862854, 0.16596511006355286, 0.2287622094154358, 0.3792329728603363, 0.25635239481925964, 0.3224247694015503, 0.4212645888328552, 0.15629786252975464, 0.2239021360874176, 0.20642901957035065, 0.3558693826198578, 0.18701958656311035, 0.21975396573543549, 0.17501315474510193, 0.15899798274040222, 0.17547716200351715, 0.3378520905971527, 0.3515428900718689, 0.174003005027771, 0.3171936273574829, 0.21059110760688782, 0.23250770568847656, 0.26265013217926025, 0.29768192768096924, 0.403997004032135, 0.2388736754655838, 0.1251457780599594, 0.1890394240617752, 0.1584969162940979, 0.1651841402053833, 0.24177849292755127, 0.1986398547887802, 0.14390753209590912, 0.11958100646734238, 0.12362424284219742, 0.13829199969768524, 0.1625424176454544, 0.1379048377275467, 0.1517592817544937, 0.27817612886428833, 0.34753018617630005, 0.30810895562171936, 0.22512318193912506, 0.15540750324726105, 0.11030248552560806, 0.1061541810631752, 0.27586841583251953, 0.2986869513988495, 0.33189108967781067, 0.14302648603916168, 0.2564268410205841, 0.28762149810791016, 0.1800210177898407, 0.20475366711616516, 0.25595563650131226, 0.16986416280269623, 0.1622178554534912, 0.17200571298599243, 0.16033045947551727, 0.3684251010417938, 0.2757471799850464, 0.4697038531303406, 0.2050579935312271, 0.14660842716693878, 0.14961934089660645, 0.18117229640483856, 0.1746220737695694, 0.3079782724380493, 0.17918410897254944, 0.1071326956152916, 0.2048552930355072, 0.4382082223892212, 0.20532546937465668, 0.2910773754119873, 0.2026507407426834, 0.35941174626350403, 0.11608376353979111, 0.14972659945487976, 0.1415565460920334, 0.16983915865421295, 0.129563108086586, 0.09756407886743546, 0.15459533035755157, 0.129354327917099, 0.22252386808395386, 0.10496982932090759, 0.0955110713839531, 0.13265366852283478, 0.11716341972351074, 0.10612154752016068, 0.11895391345024109, 0.2570938169956207, 0.12009231746196747, 0.0923505574464798, 0.09381559491157532, 0.14737670123577118, 0.09595561027526855, 0.10788249969482422, 0.2616432011127472, 0.1664096564054489, 0.14744220674037933, 0.14843682944774628, 0.24645934998989105, 0.35843461751937866, 0.14598748087882996, 0.15457269549369812, 0.2788248360157013, 0.16206087172031403, 0.21067054569721222, 0.10391759127378464, 0.18287578225135803, 0.18823210895061493, 0.1743505746126175, 0.17644377052783966, 0.2570766806602478, 0.10282813757658005, 0.1640336513519287, 0.12639166414737701, 0.2078491896390915, 0.17841166257858276, 0.20371492207050323, 0.15095031261444092, 0.13421481847763062, 0.14470666646957397, 0.15597867965698242, 0.21545292437076569, 0.1298680305480957, 0.12118104845285416, 0.11293023824691772, 0.0988396629691124, 0.09539081156253815, 0.11323503404855728, 0.2594141960144043, 0.14595963060855865, 0.1310558170080185, 0.25031277537345886, 0.12403510510921478, 0.11690223217010498, 0.18089939653873444, 0.22521400451660156, 0.15722821652889252, 0.1257273256778717, 0.1578337699174881, 0.1610993593931198, 0.1138075441122055, 0.10411427915096283, 0.1663370132446289, 0.27291277050971985, 0.17228654026985168, 0.134801983833313, 0.11385009437799454, 0.1410607546567917, 0.1792604774236679, 0.2635902762413025, 0.1374938040971756, 0.09172319620847702, 0.20223763585090637, 0.09631773829460144, 0.21262606978416443, 0.10304906219244003, 0.2730065882205963, 0.09815971553325653, 0.0949038416147232, 0.0943753644824028, 0.12800957262516022, 0.10917271673679352, 0.1424943059682846, 0.09233646094799042, 0.2541444003582001, 0.10385473072528839, 0.21228380501270294, 0.08933030068874359, 0.19370460510253906, 0.166122168302536, 0.09010166674852371, 0.08733771741390228, 0.14654672145843506, 0.2949676513671875, 0.17441345751285553, 0.20816300809383392, 0.15696118772029877, 0.1865624636411667, 0.23501716554164886, 0.16788578033447266, 0.14806875586509705, 0.14868193864822388, 0.1218646988272667, 0.128040611743927, 0.26022717356681824, 0.1397557258605957, 0.15306039154529572, 0.12621872127056122, 0.14504237473011017, 0.1787356734275818, 0.14435899257659912, 0.12501947581768036, 0.31845465302467346, 0.10895489156246185, 0.12252785265445709, 0.11313807964324951, 0.21930964291095734, 0.14739246666431427, 0.13346196711063385, 0.09716425091028214, 0.29009848833084106, 0.11134085059165955, 0.11774484068155289, 0.13741479814052582, 0.11571764945983887, 0.12344980984926224, 0.08535052835941315, 0.1914023458957672, 0.10406617075204849, 0.12208060175180435, 0.09759283810853958, 0.1525314897298813, 0.12468981742858887, 0.2651274502277374, 0.1492859125137329, 0.23528532683849335, 0.11677528917789459, 0.16232706606388092, 0.15243741869926453, 0.19125987589359283, 0.23039856553077698, 0.13122989237308502, 0.1805233657360077, 0.1465248167514801, 0.18408721685409546, 0.19182410836219788, 0.12491914629936218, 0.09251821041107178, 0.16135910153388977, 0.17049799859523773, 0.1751062124967575, 0.11577865481376648, 0.11817854642868042, 0.31736278533935547, 0.15448105335235596, 0.09638255089521408, 0.15261177718639374, 0.11051367968320847, 0.09138914942741394, 0.08825499564409256, 0.10779374837875366, 0.10483761876821518, 0.10161460936069489, 0.1627788245677948, 0.08423514664173126, 0.20454904437065125, 0.08765345811843872, 0.09826697409152985, 0.10174218565225601, 0.19452038407325745, 0.0898015946149826, 0.24016758799552917, 0.10336893796920776, 0.11424482613801956, 0.10168609023094177, 0.12245950847864151, 0.13084667921066284, 0.1044582799077034, 0.09572043269872665, 0.0918261706829071, 0.10263515263795853, 0.0805416852235794, 0.21953211724758148, 0.17129656672477722, 0.12695860862731934, 0.11104147881269455, 0.11177586764097214, 0.08745703846216202, 0.13889919221401215, 0.08947815746068954, 0.20677456259727478, 0.27043431997299194, 0.11718013137578964, 0.10922601819038391, 0.11398397386074066, 0.1329740285873413, 0.32354074716567993, 0.2571583390235901, 0.16966596245765686, 0.10282722115516663, 0.276216596364975, 0.17279650270938873, 0.10536623001098633, 0.10164526849985123, 0.10757008194923401, 0.2720588743686676, 0.09607081115245819, 0.22035467624664307, 0.09477904438972473, 0.13723160326480865, 0.12822167575359344, 0.08305926620960236, 0.14391110837459564, 0.11216172575950623, 0.21485768258571625, 0.10920893400907516, 0.09982302039861679, 0.0839708149433136, 0.17828547954559326, 0.28267234563827515, 0.2595316469669342, 0.13876669108867645, 0.10231519490480423, 0.14943142235279083, 0.1838342547416687, 0.27764278650283813, 0.12195874750614166, 0.18012109398841858, 0.23574914038181305, 0.1454990804195404, 0.09906371682882309, 0.1571023017168045, 0.14117272198200226, 0.13160888850688934, 0.0935974270105362, 0.1164931207895279, 0.13295380771160126, 0.11225607991218567, 0.14037126302719116, 0.15325531363487244, 0.11885242164134979, 0.09244319051504135, 0.22833821177482605, 0.08553943037986755, 0.1053834781050682, 0.0867084190249443, 0.08498431742191315, 0.11758919060230255, 0.24688223004341125, 0.1535039097070694, 0.18721088767051697, 0.11303061246871948, 0.17951694130897522, 0.12297012656927109, 0.18491807579994202, 0.19435620307922363, 0.13235566020011902, 0.2550206184387207, 0.16027016937732697, 0.11423470824956894, 0.10909710079431534, 0.15142667293548584, 0.09841053932905197, 0.23314744234085083, 0.11195185780525208, 0.15722335875034332, 0.10337488353252411, 0.3277616798877716, 0.08267758786678314, 0.09436869621276855, 0.11990882456302643, 0.16844050586223602, 0.27436017990112305, 0.13053955137729645, 0.12087618559598923, 0.09209657460451126, 0.0957455262541771, 0.2210966795682907, 0.08882854878902435, 0.1280934065580368, 0.1238136813044548, 0.13603809475898743, 0.0987074226140976, 0.23608984053134918, 0.093050017952919, 0.1098141148686409, 0.1951713114976883, 0.20321834087371826, 0.10395905375480652, 0.2091563194990158, 0.13574808835983276, 0.11951296776533127, 0.08657100051641464, 0.1168157309293747, 0.10777350515127182, 0.1316729038953781, 0.1542423814535141, 0.1755572408437729, 0.1306561976671219, 0.14564602077007294, 0.14602696895599365, 0.1399856060743332, 0.10582529753446579, 0.1825987845659256, 0.10458111763000488, 0.12203969806432724, 0.1476329267024994, 0.10368255525827408, 0.20275121927261353, 0.2143201380968094, 0.13824445009231567, 0.1442742943763733, 0.11172094196081161, 0.14566314220428467, 0.19932661950588226, 0.0986013114452362, 0.2475191205739975, 0.22081415355205536, 0.11029057949781418, 0.1625192016363144, 0.25011250376701355, 0.09315737336874008, 0.28730347752571106, 0.10539838671684265, 0.1291304975748062, 0.15107978880405426, 0.15743683278560638, 0.09338748455047607, 0.21470288932323456, 0.18887858092784882, 0.0958842933177948, 0.1680326759815216, 0.12261591106653214, 0.2600862383842468, 0.24160008132457733, 0.18272866308689117, 0.11864730715751648, 0.1464776247739792, 0.1596357375383377, 0.11722817271947861, 0.2003069967031479, 0.2766905426979065, 0.13033777475357056, 0.14716531336307526, 0.1193719357252121, 0.13019131124019623, 0.17127728462219238, 0.19841411709785461, 0.12884263694286346, 0.21482616662979126, 0.2023593634366989, 0.14779987931251526, 0.14519977569580078, 0.09885399043560028, 0.1684916615486145, 0.11547864973545074, 0.09175314009189606, 0.1535080373287201, 0.12258514016866684, 0.1181153878569603, 0.13876287639141083, 0.12449050694704056, 0.09746115654706955, 0.08284612745046616, 0.20491920411586761, 0.10060600191354752, 0.08628258854150772, 0.14208784699440002, 0.14366884529590607, 0.23446619510650635, 0.12035985291004181, 0.12847690284252167, 0.19100520014762878, 0.20739667117595673, 0.16738782823085785, 0.09871281683444977, 0.09840087592601776, 0.12855461239814758, 0.11621222645044327, 0.14264614880084991, 0.09117849916219711, 0.16769565641880035, 0.18260234594345093, 0.15028955042362213, 0.12556298077106476, 0.20227165520191193, 0.1609760820865631, 0.13611754775047302, 0.1423802673816681, 0.12564407289028168, 0.11202652752399445, 0.2909998595714569, 0.18197788298130035, 0.14138199388980865, 0.15469156205654144, 0.0998082160949707, 0.13790373504161835, 0.15548637509346008, 0.1470194160938263, 0.13230553269386292, 0.09643510729074478, 0.1510702669620514, 0.10255309194326401, 0.10845816880464554, 0.12820813059806824, 0.17423272132873535, 0.22166286408901215, 0.08410844206809998, 0.07914955914020538, 0.08549711108207703, 0.13874046504497528, 0.10711988061666489, 0.17821161448955536, 0.15725867450237274, 0.10478988289833069, 0.17801639437675476, 0.08535999804735184, 0.2045838087797165, 0.22681064903736115, 0.12080669403076172, 0.1374395489692688, 0.09710373729467392, 0.1844705194234848, 0.1942458301782608, 0.11749321222305298, 0.20159965753555298, 0.1186005175113678, 0.11984866112470627, 0.11588241159915924, 0.11797679960727692, 0.10409603267908096, 0.17172731459140778, 0.14695727825164795, 0.15569446980953217, 0.11555695533752441, 0.24629245698451996, 0.2527872323989868, 0.15218856930732727, 0.11408694833517075, 0.12853533029556274, 0.14312367141246796, 0.12733811140060425, 0.12770308554172516, 0.09194789826869965, 0.12194526940584183, 0.09378641843795776, 0.07968999445438385, 0.17593200504779816, 0.13458026945590973, 0.09232089668512344, 0.2283250242471695, 0.1341676563024521, 0.1285850703716278, 0.19443030655384064, 0.1018955409526825, 0.1396067887544632, 0.1494702845811844, 0.14480271935462952, 0.11159156262874603, 0.12971824407577515, 0.09413903206586838, 0.2891608774662018, 0.10782922059297562, 0.14320187270641327, 0.19531072676181793, 0.10999758541584015, 0.1760135293006897, 0.11642460525035858, 0.10680238157510757, 0.21259009838104248, 0.08628296852111816, 0.14167475700378418, 0.14469370245933533, 0.14940644800662994, 0.15370739996433258, 0.10702629387378693, 0.2246873378753662, 0.16410723328590393, 0.1856222152709961, 0.09751477092504501, 0.1397540271282196, 0.11913173645734787, 0.18409490585327148, 0.25708022713661194, 0.11038202792406082, 0.10504141449928284, 0.24591992795467377, 0.09195763617753983, 0.08670409768819809, 0.12107473611831665, 0.10386735200881958, 0.11424577981233597, 0.10822930186986923, 0.13377997279167175, 0.11731662601232529, 0.09995727986097336, 0.11418387293815613, 0.20483329892158508, 0.09059940278530121, 0.11300116032361984, 0.10775991529226303, 0.11024516820907593, 0.13222888112068176, 0.26529404520988464, 0.12186972796916962, 0.1431974470615387, 0.12282294780015945, 0.19807453453540802, 0.09385758638381958, 0.12893424928188324, 0.10281838476657867, 0.0915389358997345, 0.18199993669986725, 0.10579968988895416, 0.09867769479751587, 0.18740256130695343, 0.0986914187669754, 0.08922672271728516, 0.12873850762844086, 0.1514836847782135, 0.14359019696712494, 0.1216219961643219, 0.2117224484682083, 0.1078939214348793, 0.12795153260231018, 0.17246821522712708, 0.09368553757667542, 0.13245192170143127, 0.1152016744017601, 0.16371196508407593, 0.17546327412128448, 0.09775266796350479, 0.11277331411838531, 0.11879689246416092, 0.09034087508916855, 0.142694354057312, 0.19634853303432465, 0.19924543797969818, 0.09113475680351257, 0.11193615198135376, 0.15543878078460693, 0.1241723969578743, 0.13311481475830078, 0.2338632196187973, 0.1012866422533989, 0.20489008724689484, 0.15388193726539612, 0.14917095005512238, 0.19941361248493195, 0.14367346465587616, 0.10979834198951721, 0.09067223966121674, 0.13655735552310944, 0.08574686199426651, 0.08627009391784668, 0.11449455469846725, 0.1552131325006485, 0.08170575648546219, 0.14160718023777008, 0.08222772181034088, 0.0810900554060936, 0.2465239316225052, 0.144065260887146, 0.22596900165081024, 0.12172206491231918, 0.17391204833984375, 0.12664927542209625, 0.12696315348148346, 0.11737977713346481, 0.15193630754947662, 0.1251753270626068, 0.10743729025125504, 0.10264472663402557, 0.09762365370988846, 0.11051252484321594, 0.305289626121521, 0.26373159885406494, 0.09055305272340775, 0.1907336413860321, 0.08801750838756561, 0.14620569348335266, 0.11014923453330994, 0.15869012475013733, 0.18282437324523926, 0.10435490310192108, 0.12058401107788086, 0.12416184693574905, 0.16733410954475403, 0.11887574195861816, 0.0899520069360733, 0.09860542416572571, 0.12617304921150208, 0.16495761275291443, 0.1548694372177124, 0.14886294305324554, 0.10520758479833603, 0.12131927162408829, 0.1530855894088745, 0.12292180210351944, 0.09943877160549164, 0.1630474030971527, 0.1320178508758545, 0.1439397931098938, 0.15053847432136536, 0.1481124460697174, 0.11852366477251053, 0.13080385327339172, 0.08931957185268402, 0.10098662227392197, 0.09904258698225021, 0.18755431473255157, 0.11178959161043167, 0.1558549851179123, 0.1040000393986702, 0.08273481577634811, 0.10584151744842529, 0.1503400057554245, 0.08833438158035278, 0.1310429573059082, 0.11277231574058533, 0.1198524683713913, 0.21377883851528168, 0.1654297411441803, 0.19010087847709656, 0.09693593531847, 0.14450125396251678, 0.2400904893875122, 0.20191887021064758, 0.09618530422449112, 0.09646350890398026, 0.13813801109790802, 0.13575106859207153, 0.22575139999389648, 0.10179169476032257, 0.144611194729805, 0.1537586748600006, 0.27013227343559265, 0.08769821375608444, 0.1616085022687912, 0.14737267792224884, 0.14710751175880432, 0.10793100297451019, 0.12649579346179962, 0.08281806111335754, 0.20388171076774597, 0.12225034087896347, 0.08857028186321259, 0.09475263208150864, 0.1280631273984909, 0.1695965975522995, 0.10557249933481216, 0.11667760461568832, 0.10499382019042969, 0.08403286337852478, 0.14799880981445312, 0.11855127662420273, 0.08880878984928131, 0.12841323018074036, 0.23802994191646576, 0.21848995983600616, 0.08165881782770157, 0.10018757730722427, 0.19666028022766113, 0.09973878413438797, 0.16691668331623077, 0.13476356863975525, 0.1525985151529312, 0.17051826417446136, 0.09140507131814957, 0.16044911742210388, 0.15963739156723022, 0.08801828324794769, 0.1439351886510849, 0.12431666254997253, 0.11162520945072174, 0.2046048939228058, 0.08836447447538376, 0.11094634234905243, 0.19902949035167694, 0.14739836752414703, 0.09120947122573853, 0.13461369276046753, 0.11505952477455139, 0.1146731972694397, 0.10126203298568726, 0.15483038127422333, 0.0811270922422409, 0.19974574446678162, 0.12353881448507309, 0.1759115755558014, 0.08513160794973373, 0.1341615468263626, 0.23148830235004425, 0.14876702427864075, 0.112172931432724, 0.18117359280586243, 0.12789130210876465, 0.15539875626564026, 0.09033667296171188, 0.18946610391139984, 0.14413510262966156, 0.09840355813503265, 0.10029680281877518, 0.1305338591337204, 0.08501715213060379, 0.2073136568069458, 0.14919538795948029, 0.09750035405158997, 0.08382973819971085, 0.0983782708644867, 0.1232495978474617, 0.17122364044189453, 0.13940167427062988, 0.14454539120197296, 0.11758250743150711, 0.17954792082309723, 0.08007624745368958, 0.10833870619535446, 0.20369216799736023, 0.13231158256530762, 0.09730224311351776, 0.09357839822769165, 0.084557443857193, 0.08684176206588745, 0.09366866201162338, 0.13606946170330048, 0.0854521170258522, 0.08993210643529892, 0.16162708401679993, 0.09928041696548462, 0.16016963124275208, 0.08052682131528854, 0.13350564241409302, 0.14205488562583923, 0.16258415579795837, 0.1722618192434311, 0.07886747270822525, 0.08760032057762146, 0.2109026461839676, 0.13568274676799774, 0.12408320605754852, 0.11325087398290634, 0.12829360365867615, 0.10207277536392212, 0.13372674584388733, 0.13993225991725922, 0.15954037010669708, 0.12981849908828735, 0.14715617895126343, 0.08588235825300217, 0.18082326650619507, 0.11208038032054901, 0.1489429473876953, 0.1232205480337143, 0.10936474055051804, 0.14730706810951233, 0.12985599040985107, 0.10085255652666092, 0.2210577130317688, 0.11365805566310883, 0.09173814207315445, 0.09617581218481064, 0.18805241584777832, 0.17585283517837524, 0.20998390018939972, 0.09418608248233795, 0.1917734295129776, 0.10705319792032242, 0.10982836782932281, 0.175421804189682, 0.1032942458987236, 0.11667332053184509, 0.11296913772821426, 0.13283699750900269, 0.14644336700439453, 0.1652165651321411, 0.1520722210407257, 0.23509281873703003, 0.13828159868717194, 0.09751112759113312, 0.1784164011478424, 0.1259634643793106, 0.0943128913640976, 0.13553830981254578, 0.22139756381511688, 0.26127108931541443, 0.09817268699407578, 0.12192358076572418, 0.11384505033493042, 0.10077762603759766, 0.22186993062496185, 0.097141332924366, 0.0865526869893074, 0.10598371922969818, 0.0872926190495491, 0.12801045179367065, 0.1413050889968872, 0.22042284905910492, 0.3137962222099304, 0.09969482570886612, 0.12291642278432846, 0.09171842783689499, 0.14872007071971893, 0.13472196459770203, 0.23420099914073944, 0.11739405989646912, 0.14565113186836243, 0.10400773584842682, 0.08703741431236267, 0.12856346368789673, 0.08421069383621216, 0.09255402535200119, 0.17783527076244354, 0.11414335668087006, 0.10174340009689331, 0.09171122312545776, 0.0822499692440033, 0.17310306429862976, 0.13700716197490692, 0.13567672669887543, 0.08747178316116333, 0.1384749859571457, 0.10696151107549667, 0.19008155167102814, 0.13058285415172577, 0.13510023057460785, 0.1544002890586853, 0.13486574590206146, 0.08717293292284012, 0.13192123174667358, 0.1184811219573021, 0.2866806089878082, 0.09759052842855453, 0.244689479470253, 0.12382052838802338, 0.14390155673027039, 0.15668925642967224, 0.17234140634536743, 0.10440026223659515, 0.10595615208148956, 0.16144752502441406, 0.1141379252076149, 0.14987725019454956, 0.24686403572559357, 0.1708117127418518, 0.12293507158756256, 0.09586603939533234, 0.11017104983329773, 0.09036632627248764, 0.1250520944595337, 0.19541412591934204, 0.10447358340024948, 0.0830722525715828, 0.09656666964292526, 0.14642217755317688, 0.07834412902593613, 0.10324006527662277, 0.14502133429050446, 0.13229134678840637, 0.12988072633743286, 0.1047416478395462, 0.08484399318695068, 0.1068214550614357, 0.18343733251094818, 0.09844549000263214, 0.08793297410011292, 0.16355571150779724, 0.09379684925079346, 0.24585019052028656, 0.1304357349872589, 0.18949978053569794, 0.11769787222146988, 0.09546536952257156, 0.14979149401187897, 0.1234559565782547, 0.09549576044082642, 0.10192263871431351, 0.15997809171676636, 0.09317626804113388, 0.11353875696659088, 0.1739259660243988, 0.11089704185724258, 0.1239512488245964, 0.1393047720193863, 0.18903715908527374, 0.0938844084739685, 0.13149429857730865, 0.0961533710360527, 0.15105053782463074, 0.13963152468204498, 0.13703325390815735, 0.20327231287956238, 0.15228380262851715, 0.0950862318277359, 0.10360042750835419, 0.13836731016635895, 0.14494210481643677, 0.09841407835483551, 0.14138208329677582, 0.09767526388168335, 0.13997505605220795, 0.13241687417030334, 0.1328117698431015, 0.223878875374794, 0.1875721514225006, 0.11756076663732529, 0.088340163230896, 0.17558594048023224, 0.09937158972024918, 0.0779283419251442, 0.08036141097545624, 0.171224907040596, 0.08951545506715775, 0.23859639465808868, 0.08695602416992188, 0.13348431885242462, 0.2373642921447754, 0.18129979074001312, 0.10476899147033691, 0.11319335550069809, 0.20534546673297882, 0.15690352022647858, 0.12103421986103058, 0.1628781110048294, 0.11369858682155609, 0.0998307541012764, 0.21807603538036346, 0.08135934919118881, 0.15468913316726685, 0.09100890159606934, 0.11315693706274033, 0.09123309701681137, 0.15433765947818756, 0.12165454030036926, 0.17085418105125427, 0.08531086146831512, 0.13896627724170685, 0.12418583780527115, 0.1269676685333252, 0.10627704858779907, 0.18139863014221191, 0.17039138078689575, 0.11242248117923737, 0.08877278864383698, 0.14705011248588562, 0.20802554488182068, 0.09790684282779694, 0.1489989459514618, 0.08380940556526184, 0.08366876095533371, 0.11759468913078308, 0.15159767866134644, 0.12281955778598785, 0.08726087212562561, 0.09435231983661652, 0.09224190562963486, 0.09720352292060852, 0.0923418328166008, 0.12725648283958435, 0.21730227768421173, 0.10272838920354843, 0.09886843711137772, 0.1562877893447876, 0.2899605929851532, 0.10856256633996964, 0.09029000997543335, 0.13722340762615204, 0.08537988364696503, 0.08218255639076233, 0.1640298068523407, 0.11716301739215851, 0.10909545421600342, 0.0844150185585022, 0.12995001673698425, 0.1231376975774765, 0.1445867121219635, 0.08475859463214874, 0.16742026805877686, 0.12291279435157776, 0.08868084102869034, 0.20176836848258972, 0.08625751733779907, 0.17544105648994446, 0.12417379766702652, 0.17860755324363708, 0.15218068659305573, 0.10863245278596878, 0.18720479309558868, 0.1256168931722641, 0.12905459105968475, 0.1313805729150772, 0.09894192218780518, 0.08427600562572479, 0.11524701118469238, 0.10427851974964142, 0.16747650504112244, 0.1986798495054245, 0.14837244153022766, 0.12059905380010605, 0.19150297343730927, 0.1027352437376976, 0.15747547149658203, 0.09501586109399796, 0.1619419902563095, 0.12199494242668152, 0.13275957107543945, 0.15479184687137604, 0.20670855045318604, 0.09125010669231415, 0.10456646233797073, 0.08088110387325287, 0.15866118669509888, 0.17721782624721527, 0.1668621152639389, 0.1703450232744217, 0.14401613175868988, 0.08242794126272202, 0.1455697864294052, 0.1345929354429245, 0.08194074034690857, 0.09679380059242249, 0.1071363240480423, 0.1455148309469223, 0.09942124038934708, 0.10359019786119461, 0.10546793043613434, 0.1334914118051529, 0.1088123470544815, 0.12464387714862823, 0.08293300122022629, 0.08193228393793106, 0.11828077584505081, 0.18676340579986572, 0.07825306802988052, 0.08587951958179474, 0.2063426673412323, 0.2299458384513855, 0.15432412922382355, 0.12126512825489044, 0.16534297168254852, 0.121846042573452, 0.10333741456270218, 0.19209423661231995, 0.12261996418237686, 0.16149452328681946, 0.11035144329071045, 0.159357950091362, 0.1467507779598236, 0.08707208186388016, 0.1035098135471344, 0.11805213242769241, 0.09741553664207458, 0.1092175543308258, 0.13907645642757416, 0.0810404047369957, 0.1424526572227478, 0.12551996111869812, 0.09592961519956589, 0.17630042135715485, 0.09215575456619263, 0.2955053150653839, 0.08413726091384888, 0.08915171027183533, 0.0804932564496994, 0.1278761774301529, 0.09487228840589523, 0.08235320448875427, 0.15082165598869324, 0.1310601681470871, 0.07688722014427185, 0.15602628886699677, 0.08977265655994415, 0.12956364452838898, 0.09521845728158951, 0.10270725935697556, 0.08306009322404861, 0.12378688901662827, 0.19649147987365723, 0.1691315919160843, 0.0906926766037941, 0.1787182092666626, 0.13600404560565948, 0.12933652102947235, 0.0865398570895195, 0.09680157899856567, 0.08634354174137115, 0.0875638872385025, 0.17170175909996033, 0.16934336721897125, 0.09707073122262955, 0.1050153449177742, 0.22603489458560944, 0.12873044610023499, 0.11796098202466965, 0.08417018502950668, 0.16874897480010986, 0.1588299721479416, 0.13796979188919067, 0.10425373166799545, 0.14253772795200348, 0.11769786477088928, 0.15051668882369995, 0.09638331830501556, 0.140641450881958, 0.14555922150611877, 0.10185559093952179, 0.20300282537937164, 0.10941863805055618, 0.10701142251491547, 0.09707403182983398, 0.10398707538843155, 0.1299743503332138, 0.15577614307403564, 0.1424923986196518, 0.08331271260976791, 0.12833283841609955, 0.08550163358449936, 0.10084601491689682, 0.14232340455055237, 0.08469998836517334, 0.11012671142816544, 0.09713409096002579, 0.23026154935359955, 0.10355663299560547, 0.13548026978969574, 0.09377965331077576, 0.12764698266983032, 0.07866517454385757, 0.14991450309753418, 0.1402100771665573, 0.1395372450351715, 0.0815635547041893, 0.14761309325695038, 0.14218854904174805, 0.19118022918701172, 0.09597011655569077, 0.1748184859752655, 0.08166638761758804, 0.1203678548336029, 0.0887652114033699, 0.14633773267269135, 0.1527194082736969, 0.11565984040498734, 0.0964553952217102, 0.08723528683185577, 0.14421093463897705, 0.18163751065731049, 0.13270129263401031, 0.09900903701782227, 0.09496259689331055, 0.10171403735876083, 0.08737283945083618, 0.16665373742580414, 0.08883669227361679, 0.14715051651000977, 0.1359276920557022, 0.08697118610143661, 0.12609894573688507, 0.1168731078505516, 0.1954149454832077, 0.12185908854007721, 0.08243012428283691, 0.1924315243959427, 0.10058806091547012, 0.09891200810670853, 0.10659351944923401, 0.11000741273164749, 0.093439482152462, 0.09223900735378265, 0.10817538946866989, 0.19951215386390686, 0.16196922957897186, 0.10105147957801819, 0.13192538917064667, 0.1450633853673935, 0.1282317042350769, 0.19634778797626495, 0.2158387303352356, 0.12073597311973572, 0.09938693791627884, 0.1409389227628708, 0.10091601312160492, 0.10573749989271164, 0.08348478376865387, 0.20231665670871735, 0.08043866604566574, 0.07645314931869507, 0.1761861890554428, 0.16085733473300934, 0.08543568104505539, 0.12942864000797272, 0.08288409560918808, 0.10601236671209335, 0.07897347956895828, 0.20623084902763367, 0.11777280271053314, 0.07638128846883774, 0.09194878488779068, 0.09674198180437088, 0.11669882386922836, 0.15770947933197021, 0.11930274963378906, 0.13945433497428894, 0.1713486909866333, 0.16022878885269165, 0.1585565060377121, 0.0920659676194191, 0.10374339669942856, 0.1371290236711502, 0.09917067736387253, 0.11620355397462845, 0.11482636630535126, 0.11455410718917847, 0.12840819358825684, 0.2135627567768097, 0.28425800800323486, 0.08386219292879105, 0.14670591056346893, 0.16619561612606049, 0.12151562422513962, 0.110144704580307, 0.14003364741802216, 0.08811375498771667, 0.15142029523849487, 0.08412173390388489, 0.22834154963493347, 0.1509556919336319, 0.10093509405851364, 0.09790798276662827, 0.09580468386411667, 0.08733032643795013, 0.09262096881866455, 0.11566955596208572, 0.09265918284654617, 0.07780638337135315, 0.15694105625152588, 0.2543821334838867, 0.10613931715488434, 0.10789693892002106, 0.12599417567253113, 0.11032664030790329, 0.1255616843700409, 0.09437890350818634, 0.09546344727277756, 0.12184341251850128, 0.17759448289871216, 0.14478705823421478, 0.12425772845745087, 0.13053789734840393, 0.09776699542999268, 0.16288931667804718, 0.15649281442165375, 0.111238993704319, 0.11089018732309341, 0.11209945380687714, 0.18608398735523224, 0.1495295614004135, 0.11719311773777008, 0.10540218651294708, 0.09391376376152039, 0.11333765089511871, 0.1349812000989914, 0.1295497864484787, 0.08015452325344086, 0.10726212710142136, 0.09721358865499496, 0.19331002235412598, 0.12650969624519348, 0.14390607178211212, 0.11974239349365234, 0.10291886329650879, 0.14176936447620392, 0.14889900386333466, 0.1365184485912323, 0.11442212760448456, 0.12304408848285675, 0.08183564245700836, 0.07976894825696945, 0.07819557189941406, 0.16157513856887817, 0.09270928800106049, 0.1099417433142662, 0.1319562941789627, 0.08384796231985092, 0.11341885477304459, 0.1736844778060913, 0.08887819200754166, 0.09076862782239914, 0.1264534592628479, 0.1813463568687439, 0.15235573053359985, 0.11184054613113403, 0.11105571687221527, 0.11592261493206024, 0.09019120782613754, 0.18446648120880127, 0.09894676506519318, 0.08184686303138733, 0.14247040450572968, 0.08576662093400955, 0.0887979045510292, 0.08001668751239777, 0.13125336170196533, 0.1586928516626358, 0.09046325832605362, 0.12382718175649643, 0.15879438817501068, 0.11416975408792496, 0.10322428494691849, 0.1003035306930542, 0.14710605144500732, 0.08166620135307312, 0.08767103403806686, 0.0899023562669754, 0.16461701691150665, 0.136421337723732, 0.11481957882642746, 0.09619234502315521, 0.11847486346960068, 0.10090295225381851, 0.14637166261672974, 0.12761010229587555, 0.11633692681789398, 0.20887300372123718, 0.09659026563167572, 0.08625005930662155, 0.13359564542770386, 0.1650698184967041, 0.1306866556406021, 0.1060844138264656, 0.09157834202051163, 0.08920924365520477, 0.12115777283906937, 0.2326381355524063, 0.11068113893270493, 0.07653608173131943, 0.09288927912712097, 0.09782379865646362, 0.17691557109355927, 0.12206251174211502, 0.1382237672805786, 0.08265198022127151, 0.08227415382862091, 0.09670305997133255, 0.09024452418088913, 0.16699165105819702, 0.15313546359539032, 0.12234066426753998, 0.1179530993103981, 0.11830437183380127, 0.10245458781719208, 0.1028810366988182, 0.09498262405395508, 0.11988259106874466, 0.10078247636556625, 0.10714966803789139, 0.11939091980457306, 0.09491442888975143, 0.07043960690498352, 0.0767500028014183, 0.14387477934360504, 0.08664576709270477, 0.08566206693649292, 0.12665238976478577, 0.10465767234563828, 0.1344202756881714, 0.2276679426431656, 0.11526796221733093, 0.09033970534801483, 0.11211278289556503, 0.14756052196025848, 0.08639497309923172, 0.1133635863661766, 0.0934310033917427, 0.16125960648059845, 0.16375292837619781, 0.2618541121482849, 0.10502943396568298, 0.13439597189426422, 0.12514939904212952, 0.1270783245563507, 0.10537215322256088, 0.11037378013134003, 0.1198006123304367, 0.10818010568618774, 0.08577775210142136, 0.1798698455095291, 0.18699264526367188, 0.15953481197357178, 0.10519266128540039, 0.10363441705703735, 0.11288028955459595, 0.17566055059432983, 0.08365505933761597, 0.1252359002828598, 0.09610889852046967, 0.10091549903154373, 0.10137251764535904, 0.16816599667072296, 0.21470221877098083, 0.09088371694087982, 0.08096976578235626, 0.15335717797279358, 0.13627390563488007, 0.13728833198547363, 0.18567119538784027, 0.10443160682916641, 0.11540786176919937, 0.12357593327760696, 0.17367225885391235, 0.09701632708311081, 0.08633488416671753, 0.11629917472600937, 0.1460413634777069, 0.10636746883392334, 0.13615791499614716, 0.1513761430978775, 0.11462360620498657, 0.12626419961452484, 0.1481996476650238, 0.12655441462993622, 0.15102428197860718, 0.10531789064407349, 0.20597320795059204, 0.21653486788272858, 0.168129101395607, 0.10723328590393066, 0.08823633193969727, 0.08877412974834442, 0.2155672162771225, 0.11915776878595352, 0.14846540987491608, 0.14754249155521393, 0.16907140612602234, 0.11774364113807678, 0.11894149333238602, 0.09379696846008301, 0.18615907430648804, 0.12261439859867096, 0.19540643692016602, 0.08362468332052231, 0.14103460311889648, 0.14271141588687897, 0.10780904442071915, 0.08555999398231506, 0.13519053161144257, 0.09332390874624252, 0.12735949456691742, 0.08647101372480392, 0.1359890252351761, 0.08277452737092972, 0.1034746766090393, 0.10030756145715714, 0.08074191212654114, 0.08624422550201416, 0.11262895166873932, 0.10718642920255661, 0.16587857902050018, 0.1885666847229004, 0.1880146861076355, 0.18837876617908478, 0.10701935738325119, 0.14936013519763947, 0.1181781217455864, 0.13002625107765198, 0.11166978627443314, 0.1768859624862671, 0.09693625569343567, 0.18049955368041992, 0.10832580924034119, 0.08727885782718658, 0.1274057924747467, 0.10234007984399796, 0.14733892679214478, 0.10853475332260132, 0.15787126123905182, 0.10947700589895248, 0.09223560243844986, 0.08097150921821594, 0.1811920702457428, 0.10665061324834824, 0.10371964424848557, 0.0883944034576416, 0.24542419612407684, 0.128721684217453, 0.17451700568199158, 0.0827256441116333, 0.1239495724439621, 0.18247181177139282, 0.1255539208650589, 0.0962742492556572, 0.0979834720492363, 0.11665777862071991, 0.14637571573257446, 0.1173967495560646, 0.10874000936746597, 0.0970548465847969, 0.08933518081903458, 0.11518202722072601, 0.1162535697221756, 0.1388178914785385, 0.08049130439758301, 0.14439715445041656, 0.08372461795806885, 0.1196984052658081, 0.12195746600627899, 0.10441457480192184, 0.27105143666267395, 0.0936567559838295, 0.10056094080209732, 0.15344735980033875, 0.12256883084774017, 0.2584861218929291, 0.13105539977550507, 0.14540719985961914, 0.09439819306135178, 0.11421208828687668, 0.09806372225284576, 0.09871669113636017, 0.229832723736763, 0.09470751881599426, 0.09256582707166672, 0.08100399374961853, 0.12018373608589172, 0.21144269406795502, 0.08869989216327667, 0.09196998924016953, 0.10167555510997772, 0.12949751317501068, 0.13226774334907532, 0.15247417986392975, 0.13152243196964264, 0.12101494520902634, 0.10265642404556274, 0.11592111736536026, 0.20387224853038788, 0.09579607844352722, 0.10486716777086258, 0.20753280818462372, 0.10958822071552277, 0.12410928308963776, 0.10209830105304718, 0.11977798491716385, 0.20741131901741028, 0.12274370342493057, 0.215247243642807, 0.12797987461090088, 0.11249227076768875, 0.11411911994218826, 0.12587721645832062, 0.24383044242858887, 0.15649715065956116, 0.16138631105422974, 0.08904526382684708, 0.09550973027944565, 0.08647005259990692, 0.09424203634262085, 0.17106005549430847, 0.16645938158035278, 0.08413057029247284, 0.2148299217224121, 0.20546820759773254, 0.11529004573822021, 0.1944478303194046, 0.09901753067970276, 0.11400449275970459, 0.14036931097507477, 0.10079215466976166, 0.17880335450172424, 0.10977853089570999, 0.11056800186634064, 0.10368555039167404, 0.1609228402376175, 0.11317019909620285, 0.13000492751598358, 0.11360339820384979, 0.12820082902908325, 0.11632980406284332, 0.07966309040784836, 0.13572266697883606, 0.16565082967281342, 0.07877253741025925, 0.08364805579185486, 0.12019964307546616, 0.17790982127189636, 0.2017340362071991, 0.1895156353712082, 0.12015435844659805, 0.166922464966774, 0.1405744105577469, 0.11826935410499573, 0.10456939786672592, 0.15820199251174927, 0.13740387558937073, 0.1311960071325302, 0.09923828393220901, 0.18631917238235474, 0.09886381030082703, 0.10162711888551712, 0.16728514432907104, 0.1087530180811882, 0.1425735354423523, 0.23752059042453766, 0.16650551557540894, 0.13714255392551422, 0.09576565027236938, 0.08881179243326187, 0.0864383801817894, 0.11509723961353302, 0.17827439308166504, 0.09254102408885956, 0.1734105795621872, 0.1406400352716446, 0.11829838901758194, 0.10673688352108002, 0.09014584869146347, 0.10220411419868469, 0.1273615062236786, 0.09836845844984055, 0.13979877531528473, 0.17107684910297394, 0.11970178037881851, 0.11786694824695587, 0.07282739132642746, 0.14052659273147583, 0.15038317441940308, 0.1352110654115677, 0.13702543079853058, 0.1721215695142746, 0.19081002473831177, 0.16027875244617462, 0.12719963490962982, 0.09065637737512589, 0.09914777427911758, 0.08404224365949631, 0.13808825612068176, 0.14592795073986053, 0.12663215398788452, 0.10752793401479721, 0.17363223433494568, 0.14103515446186066, 0.10255629569292068, 0.0999101996421814, 0.1381506323814392, 0.07745102792978287, 0.13846956193447113, 0.29914018511772156, 0.14423146843910217, 0.13827382028102875, 0.11037875711917877, 0.08391085267066956, 0.10539478808641434, 0.13559769093990326, 0.1575133055448532, 0.09817840158939362, 0.17290566861629486, 0.18585346639156342, 0.10131899267435074, 0.10008760541677475, 0.09714911133050919, 0.11657141894102097, 0.13794869184494019, 0.11286315321922302, 0.10576372593641281, 0.1628168225288391, 0.18282495439052582, 0.15557464957237244, 0.10840795934200287, 0.10216429829597473, 0.08440692722797394, 0.16352076828479767, 0.15286748111248016, 0.13027356564998627, 0.08260735869407654, 0.12113301455974579, 0.1075781062245369, 0.1150587722659111, 0.16254323720932007, 0.17522719502449036, 0.15863004326820374, 0.08670258522033691, 0.11148858070373535, 0.0823286846280098, 0.09032249450683594, 0.12456817924976349, 0.14330385625362396, 0.19045814871788025, 0.08977705985307693, 0.09237123280763626, 0.09458494931459427, 0.07687919586896896, 0.21632397174835205, 0.10338758677244186, 0.08508297801017761, 0.10955621302127838, 0.128409281373024, 0.10235472023487091, 0.09184390306472778, 0.16615267097949982, 0.18014639616012573, 0.12460527569055557, 0.12121230363845825, 0.09384820610284805, 0.1262388378381729, 0.12659700214862823, 0.1557738333940506, 0.11802952736616135, 0.1739605963230133, 0.10491974651813507, 0.09306149929761887, 0.09526918083429337, 0.1331072449684143, 0.10950158536434174, 0.1135627031326294, 0.11353375017642975, 0.13534370064735413, 0.11763108521699905, 0.14218924939632416, 0.21259553730487823, 0.143835186958313, 0.24616973102092743, 0.1026684120297432, 0.11955001205205917, 0.100973941385746, 0.11226078867912292, 0.10791464895009995, 0.12345647811889648, 0.16148148477077484, 0.09900765120983124, 0.1718750149011612, 0.1796211451292038, 0.08354183286428452, 0.08199393004179001, 0.11948058754205704, 0.1541510671377182, 0.25635451078414917, 0.16085736453533173, 0.09528989344835281, 0.09445185959339142, 0.10814246535301208, 0.10874976962804794, 0.09674958884716034, 0.16452482342720032, 0.189769446849823, 0.11969614773988724, 0.15816046297550201, 0.13446107506752014, 0.1182553842663765, 0.24445995688438416, 0.13236704468727112, 0.11148146539926529, 0.10623760521411896, 0.10012003034353256, 0.09405483305454254, 0.1099134236574173, 0.0760398879647255, 0.1519337147474289, 0.2387450635433197, 0.15692678093910217, 0.10428367555141449, 0.11394701153039932, 0.11001018434762955, 0.12144558876752853, 0.11977913230657578, 0.189853236079216, 0.13640281558036804, 0.12016782909631729, 0.0987059697508812, 0.2413853406906128, 0.11836425215005875, 0.12839621305465698, 0.144494891166687, 0.11302019655704498, 0.11852116137742996, 0.11089123785495758, 0.16078276932239532, 0.14080241322517395, 0.09251569956541061, 0.1244451031088829, 0.13259927928447723, 0.08947586268186569, 0.08857595920562744, 0.09349338710308075, 0.08529595285654068, 0.14595521986484528, 0.0810946524143219, 0.15700538456439972, 0.17629295587539673, 0.14394332468509674, 0.14701947569847107, 0.12529362738132477, 0.09077490866184235, 0.08217302709817886, 0.09891095757484436, 0.1610943078994751, 0.11849795281887054, 0.1638268381357193, 0.12341395020484924, 0.10960914939641953, 0.11854834109544754, 0.14087417721748352, 0.17637643218040466, 0.14628766477108002, 0.11141888052225113, 0.10695602744817734, 0.11206083744764328, 0.1502329558134079, 0.11125292629003525, 0.13792477548122406, 0.15926429629325867, 0.1352183073759079, 0.12793812155723572, 0.10414017736911774, 0.10006998479366302, 0.127637580037117, 0.11123886704444885, 0.15717123448848724, 0.2034786492586136, 0.13356097042560577, 0.17657533288002014, 0.13508760929107666, 0.11447139829397202, 0.10409649461507797, 0.11743393540382385, 0.07988698035478592, 0.09919707477092743, 0.10323846340179443, 0.08799295872449875, 0.11438866704702377, 0.14717882871627808, 0.09434832632541656, 0.1636962741613388, 0.1459447741508484, 0.08099237829446793, 0.14355657994747162, 0.07991869747638702, 0.25092995166778564, 0.16115215420722961, 0.09328249841928482, 0.18075022101402283, 0.09381017088890076, 0.15757368505001068, 0.13425856828689575, 0.09431923925876617, 0.1134694516658783, 0.09614557772874832, 0.10618294030427933, 0.07754556834697723, 0.08328582346439362, 0.09304987639188766, 0.0886882022023201, 0.1603889763355255, 0.18378791213035583, 0.07541523873806, 0.12602590024471283, 0.09824241697788239, 0.09377702325582504, 0.1031704917550087, 0.07281890511512756, 0.09780163317918777, 0.15205597877502441, 0.1445397138595581, 0.1116255670785904, 0.10685288161039352, 0.12598347663879395, 0.09815941751003265, 0.3010317385196686, 0.08950730413198471, 0.09583082050085068, 0.1463903933763504, 0.10874001681804657, 0.10467628389596939, 0.10521134734153748, 0.11143375188112259, 0.12214566022157669, 0.09480109065771103, 0.0792241320014, 0.07491949200630188, 0.14336052536964417, 0.08297961950302124, 0.08569890260696411, 0.11626497656106949, 0.17538456618785858, 0.09204821288585663, 0.11431913077831268, 0.14655426144599915, 0.12169903516769409, 0.10623355209827423, 0.14733386039733887, 0.10760120302438736, 0.10199550539255142, 0.16542448103427887, 0.13255661725997925, 0.09332070499658585, 0.09220713376998901, 0.08739377558231354, 0.1945866048336029, 0.08460398018360138, 0.13036876916885376, 0.1434146761894226, 0.12327401340007782, 0.1608002632856369, 0.14255185425281525, 0.1491519808769226, 0.1455114185810089, 0.112812340259552, 0.13936194777488708, 0.12292957305908203, 0.08994560688734055, 0.10484601557254791, 0.26297178864479065, 0.15657293796539307, 0.1439451426267624, 0.12192349135875702, 0.16604463756084442, 0.09555727243423462, 0.13638664782047272, 0.09129486232995987, 0.0963253304362297, 0.11859948188066483, 0.09741416573524475, 0.1334928274154663, 0.1224193349480629, 0.0938493013381958, 0.09504072368144989, 0.08878134191036224, 0.19908064603805542, 0.14681769907474518, 0.14345113933086395, 0.10947320610284805, 0.11335431784391403, 0.09373122453689575, 0.09866130352020264, 0.09000328928232193, 0.1059400662779808, 0.08045222610235214, 0.14469288289546967, 0.16468076407909393, 0.10123441368341446, 0.2803710401058197, 0.09938442707061768, 0.10187277942895889, 0.15268756449222565, 0.07820368558168411, 0.19323894381523132, 0.1496831476688385, 0.09573101997375488, 0.10295987129211426, 0.12680818140506744, 0.09068354964256287, 0.11788631230592728, 0.08218570053577423, 0.08588576316833496, 0.15875229239463806, 0.0905955359339714, 0.13054576516151428, 0.09351266175508499, 0.16387997567653656, 0.15846377611160278, 0.1088193953037262, 0.10393337905406952, 0.14245790243148804, 0.08866104483604431, 0.21389558911323547, 0.1517774760723114, 0.10608863830566406, 0.09944073855876923, 0.08487076312303543, 0.08724666386842728, 0.15053874254226685, 0.18736441433429718, 0.12332506477832794, 0.14442911744117737, 0.17535796761512756, 0.14075304567813873, 0.11528334766626358, 0.1244826465845108, 0.10605107992887497, 0.1373838484287262, 0.08113440126180649, 0.1539342701435089, 0.12127718329429626, 0.10370687395334244, 0.12229376286268234, 0.1586541384458542, 0.11481720954179764, 0.08751378208398819, 0.13756227493286133, 0.07749341428279877, 0.13250210881233215, 0.11006589978933334, 0.08220500499010086, 0.11143621802330017, 0.12533915042877197, 0.14722231030464172, 0.16069239377975464, 0.08948906511068344, 0.14847354590892792, 0.09838078171014786, 0.10228384286165237, 0.11806609481573105, 0.1245841309428215, 0.1698121875524521, 0.10051378607749939, 0.08493837714195251, 0.16331127285957336, 0.19478437304496765, 0.08700896054506302, 0.10446403175592422, 0.20652903616428375, 0.08062829077243805, 0.14649981260299683, 0.0898253470659256, 0.13703638315200806, 0.14835530519485474, 0.17983607947826385, 0.0966462716460228, 0.11740891635417938, 0.08224837481975555, 0.10237572342157364, 0.12953926622867584, 0.13763195276260376, 0.11273455619812012, 0.13899527490139008, 0.10623966157436371, 0.08979739993810654, 0.09268015623092651, 0.0770038366317749, 0.10897016525268555, 0.1174653097987175, 0.07921537011861801, 0.1871192455291748, 0.08869379758834839, 0.08821020275354385, 0.16486229002475739, 0.11400941014289856, 0.08154530078172684, 0.12904256582260132, 0.1496618688106537, 0.1734781712293625, 0.09576366096735, 0.13855117559432983, 0.17210753262043, 0.16869240999221802, 0.11753003299236298, 0.0935116857290268, 0.09397922456264496, 0.1590695083141327, 0.1339520663022995, 0.19432100653648376, 0.08478203415870667, 0.09231389313936234, 0.10559355467557907, 0.08333935588598251, 0.10558394342660904, 0.08217497915029526, 0.11114393174648285, 0.10805439949035645, 0.20516131818294525, 0.08325126767158508, 0.07407300919294357, 0.1371709406375885, 0.09277187287807465, 0.08108429610729218, 0.13380847871303558, 0.12598684430122375, 0.12507274746894836, 0.11471401154994965, 0.08327923715114594, 0.18020424246788025, 0.11520286649465561, 0.11299864947795868, 0.1254606544971466, 0.1562688946723938, 0.11635152250528336, 0.0853886604309082, 0.14852027595043182, 0.14994795620441437, 0.12469112873077393, 0.14452582597732544, 0.1359226107597351, 0.11097043007612228, 0.185552716255188, 0.11645510047674179, 0.14195559918880463, 0.1439434438943863, 0.1674291044473648, 0.1147022396326065, 0.11379565298557281, 0.12252862006425858, 0.08938736468553543, 0.08539993315935135, 0.10177204757928848, 0.16266906261444092, 0.13222737610340118, 0.12636376917362213, 0.11328154057264328, 0.13422900438308716, 0.12120254337787628, 0.09635619819164276, 0.10745478421449661, 0.11650477349758148, 0.1954106241464615, 0.10523158311843872, 0.14096370339393616, 0.08678390830755234, 0.08126266300678253, 0.13024437427520752, 0.17686526477336884, 0.11882535368204117, 0.11461946368217468, 0.11247532069683075, 0.11444778740406036, 0.18274728953838348, 0.23199273645877838, 0.17918050289154053, 0.08319642394781113, 0.11209263652563095, 0.11044146865606308, 0.1691303253173828, 0.12149666249752045, 0.17568142712116241, 0.15063270926475525, 0.11326716095209122, 0.1161729171872139, 0.07443598657846451, 0.11986847966909409, 0.15491825342178345, 0.12558579444885254, 0.1537380814552307, 0.12455381453037262, 0.1988820731639862, 0.1001632809638977, 0.10342421382665634, 0.09668606519699097, 0.14920508861541748, 0.08381135761737823, 0.10936248302459717, 0.13953447341918945, 0.11402436345815659, 0.11129660159349442, 0.09680663794279099, 0.22524218261241913, 0.19248586893081665, 0.11817798018455505, 0.07466140389442444, 0.142967090010643, 0.11146608740091324, 0.10562363266944885, 0.08755514770746231, 0.08310379832983017, 0.14331163465976715, 0.11181221157312393, 0.11161670833826065, 0.08608077466487885, 0.09662735462188721, 0.1090584546327591, 0.09336192160844803, 0.09046395123004913, 0.08006970584392548, 0.19072282314300537, 0.15713363885879517, 0.0735161155462265, 0.11215177923440933, 0.09774237126111984, 0.11236269026994705, 0.08818169683218002, 0.10258577018976212, 0.07706793397665024, 0.1229129508137703, 0.1338380128145218, 0.17276908457279205, 0.08654823154211044, 0.17922665178775787, 0.08220013976097107, 0.08182632923126221, 0.14207902550697327, 0.10101968795061111, 0.23200470209121704, 0.08142940700054169, 0.22623614966869354, 0.10304871946573257, 0.21945394575595856, 0.14152538776397705, 0.19425639510154724, 0.12900379300117493, 0.09674785286188126, 0.11409246921539307, 0.10267453640699387, 0.12556099891662598, 0.12086863815784454, 0.1022733524441719, 0.08316035568714142, 0.09045387804508209, 0.0936930775642395, 0.1036667451262474, 0.1280859410762787, 0.10399999469518661, 0.13533861935138702, 0.12680529057979584, 0.1699572652578354, 0.15311376750469208, 0.11724935472011566, 0.13870637118816376, 0.09479207545518875, 0.24113081395626068, 0.13083209097385406, 0.1128101795911789, 0.21390433609485626, 0.1057218685746193, 0.11917644739151001, 0.09062006324529648, 0.0866616815328598, 0.0972820371389389, 0.11544378101825714, 0.08876777440309525, 0.12040024250745773, 0.07394315302371979, 0.08973187208175659, 0.10017132759094238, 0.29505640268325806, 0.09114902466535568, 0.2321469932794571, 0.1529059261083603, 0.07901610434055328, 0.17837664484977722, 0.14997366070747375, 0.1332700401544571, 0.11816765367984772, 0.1830340474843979, 0.08325348794460297, 0.13152606785297394, 0.19332380592823029, 0.1212087869644165, 0.143425852060318, 0.10036137700080872, 0.08803902566432953, 0.12052271515130997, 0.08791471272706985, 0.15351663529872894, 0.07845059037208557, 0.08967412263154984, 0.1423611342906952, 0.12429395318031311, 0.07989227771759033, 0.12748144567012787, 0.10538198798894882, 0.1494104564189911, 0.22303831577301025, 0.20290352404117584, 0.21396194398403168, 0.15273556113243103, 0.09326004236936569, 0.1526123285293579, 0.1598106175661087, 0.17809948325157166, 0.166163831949234, 0.13768261671066284, 0.13029037415981293, 0.16908934712409973, 0.08988740295171738, 0.08555473387241364, 0.12149517238140106, 0.12226445227861404, 0.1152745932340622, 0.13172699511051178, 0.09965890645980835, 0.11165234446525574, 0.1320818066596985, 0.1383828967809677, 0.07805462181568146, 0.12988737225532532, 0.08993306010961533, 0.15849769115447998, 0.19639632105827332, 0.13194726407527924, 0.112592913210392, 0.08716835826635361, 0.1534850150346756, 0.1637861728668213, 0.14148584008216858, 0.22556939721107483, 0.11913377791643143, 0.13526949286460876, 0.10144259035587311, 0.15740515291690826, 0.11183478683233261, 0.13595859706401825, 0.09258735179901123, 0.1629500836133957, 0.15559470653533936, 0.14817285537719727, 0.20021478831768036, 0.08736471831798553, 0.12447349727153778, 0.11585633456707001, 0.1095263883471489, 0.11660519242286682, 0.0969591811299324, 0.0952620878815651, 0.07595528662204742, 0.08869703859090805, 0.09532675892114639, 0.18477970361709595, 0.1263391673564911, 0.12057164311408997, 0.12099970132112503, 0.19999226927757263, 0.09219523519277573, 0.07340100407600403, 0.15242065489292145, 0.08523370325565338, 0.09477052837610245, 0.15294142067432404, 0.11275073885917664, 0.08115067332983017, 0.08338868618011475, 0.15811336040496826, 0.11827763170003891, 0.10273335129022598, 0.15987363457679749, 0.19350266456604004, 0.19692040979862213, 0.08848664164543152, 0.17515407502651215, 0.17778992652893066, 0.11648241430521011, 0.12864135205745697, 0.13888520002365112, 0.10145524889230728, 0.13714954257011414, 0.08643311262130737, 0.07702980190515518, 0.13089776039123535, 0.14937075972557068, 0.08813515305519104, 0.14025558531284332, 0.10710177570581436, 0.12062421441078186, 0.11214824765920639, 0.1441943347454071, 0.09872468560934067, 0.07832461595535278, 0.14654918015003204, 0.12299855798482895, 0.09911048412322998, 0.15547879040241241, 0.10919984430074692, 0.0904872864484787, 0.16824699938297272, 0.09093374013900757, 0.1127941906452179, 0.1593942940235138, 0.08002554625272751, 0.13197465240955353, 0.2049553543329239, 0.1161576434969902, 0.1482694298028946, 0.15152546763420105, 0.11023081094026566, 0.15528841316699982, 0.10676397383213043, 0.13019222021102905, 0.09096499532461166, 0.0833163857460022, 0.157719224691391, 0.11789489537477493, 0.10638296604156494, 0.11897599697113037, 0.13474032282829285, 0.07937292009592056, 0.08752003312110901, 0.17523501813411713, 0.1069529727101326, 0.09373953193426132, 0.1867988258600235, 0.1348421573638916, 0.08056606352329254, 0.08919619023799896, 0.10093936324119568, 0.14758506417274475, 0.07854053378105164, 0.15076114237308502, 0.13360151648521423, 0.13767127692699432, 0.11543846875429153, 0.111603744328022, 0.09982269257307053, 0.11224359273910522, 0.13787344098091125, 0.08248361945152283, 0.19358108937740326, 0.10876375436782837, 0.15685945749282837, 0.09308648109436035, 0.09098996967077255, 0.09887994825839996, 0.1034257560968399, 0.2391463816165924, 0.2190733551979065, 0.10861416906118393, 0.0996716096997261, 0.0997287854552269, 0.14050935208797455, 0.14475426077842712, 0.15157997608184814, 0.10719841718673706, 0.16674476861953735, 0.126528799533844, 0.11704651266336441, 0.1374189257621765, 0.09707293659448624, 0.10326052457094193, 0.11478308588266373, 0.1586333066225052, 0.0940726101398468, 0.08504809439182281, 0.11064339429140091, 0.11670926958322525, 0.09405368566513062, 0.08595213294029236, 0.10710528492927551, 0.17411376535892487, 0.12406594306230545, 0.09505896270275116, 0.13003452122211456, 0.18467766046524048, 0.13592953979969025, 0.13333603739738464, 0.12815402448177338, 0.13663117587566376, 0.2347620278596878, 0.11099181324243546, 0.11447276175022125, 0.11413129419088364, 0.15155893564224243, 0.10476778447628021, 0.09168249368667603, 0.10627155005931854, 0.08506060391664505, 0.09750650078058243, 0.11620349436998367, 0.08976765722036362, 0.12640590965747833, 0.09066785871982574, 0.09690839797258377, 0.12499859184026718, 0.0961327999830246, 0.16599170863628387, 0.1595073789358139, 0.2048528641462326, 0.10935385525226593, 0.09954098612070084, 0.14677642285823822, 0.11465620994567871, 0.11842355877161026, 0.09758133441209793, 0.12424641102552414, 0.17675654590129852, 0.07928282767534256, 0.11353132873773575, 0.11583170294761658, 0.16277927160263062, 0.08239426463842392, 0.11008008569478989, 0.09140829741954803, 0.08487557619810104, 0.1034632995724678, 0.12730616331100464, 0.11348773539066315, 0.12966598570346832, 0.15895438194274902, 0.08337793499231339, 0.08597607910633087, 0.097891665995121, 0.12113877385854721, 0.07489717751741409, 0.0856703519821167, 0.15666711330413818, 0.11976435780525208, 0.09123352915048599, 0.08861583471298218, 0.10345033556222916, 0.12719398736953735, 0.12202165275812149, 0.07760307937860489, 0.07373213022947311, 0.14427420496940613, 0.17380031943321228, 0.1418454498052597, 0.08844220638275146, 0.11966037005186081, 0.0858420729637146, 0.12021134048700333, 0.16283689439296722, 0.17308741807937622, 0.14857402443885803, 0.11601810902357101, 0.10404545813798904, 0.14007392525672913, 0.11774575710296631, 0.12352190911769867, 0.1662672907114029, 0.15641047060489655, 0.09414727985858917, 0.08707574009895325, 0.19480876624584198, 0.16350527107715607, 0.09722160547971725, 0.16491934657096863, 0.1432102620601654, 0.17529310286045074, 0.09733080118894577, 0.08108419924974442, 0.20878581702709198, 0.0844886526465416, 0.11767657101154327, 0.12384544312953949, 0.10369712114334106, 0.09692906588315964, 0.1795617640018463, 0.2098911851644516, 0.11215374618768692, 0.12131084501743317, 0.14564011991024017, 0.13383114337921143, 0.18839634954929352, 0.08573442697525024, 0.10966188460588455, 0.08249519020318985, 0.16102442145347595, 0.08257486671209335, 0.179819718003273, 0.11135932058095932, 0.08600905537605286, 0.09713361412286758, 0.13770781457424164, 0.24961060285568237, 0.14498160779476166, 0.10221360623836517, 0.1415499746799469, 0.11100621521472931, 0.259012371301651, 0.14901794493198395, 0.0956285148859024, 0.1329759657382965, 0.09047971665859222, 0.08848975598812103, 0.09253284335136414, 0.09385654330253601, 0.13883543014526367, 0.12844236195087433, 0.13214890658855438, 0.11953273415565491, 0.12735337018966675, 0.11684965342283249, 0.08518507331609726, 0.08285192400217056, 0.10138226300477982, 0.15318596363067627, 0.14242300391197205, 0.10727571696043015, 0.15982723236083984, 0.16178131103515625, 0.20852582156658173, 0.08315587043762207, 0.17111992835998535, 0.09400779753923416, 0.1579422950744629, 0.11119396984577179, 0.14449037611484528, 0.09678024798631668, 0.13888941705226898, 0.0899704247713089, 0.13212589919567108, 0.11996274441480637, 0.08062699437141418, 0.08862979710102081, 0.10592541843652725, 0.09387411177158356, 0.09989580512046814, 0.18458017706871033, 0.0749129056930542, 0.1307218223810196, 0.10107218474149704, 0.1249377429485321, 0.13606007397174835, 0.12372782081365585, 0.2039879709482193, 0.07824166864156723, 0.082334503531456, 0.21129220724105835, 0.15968017280101776, 0.17554409801959991, 0.11923094838857651, 0.15825918316841125, 0.12957198917865753, 0.10795890539884567, 0.09475966542959213, 0.19394801557064056, 0.12714847922325134, 0.1942264586687088, 0.11271991580724716, 0.1313973069190979, 0.11390727758407593, 0.1708274781703949, 0.10424366593360901, 0.11161341518163681, 0.169120192527771, 0.09345412254333496, 0.08972600102424622, 0.12275010347366333, 0.17771567404270172, 0.12874573469161987, 0.11163156479597092, 0.12829448282718658, 0.1676437109708786, 0.1559929996728897, 0.10740337520837784, 0.13913564383983612, 0.12872882187366486, 0.1317327320575714, 0.10130581259727478, 0.1103888675570488, 0.08151875436306, 0.08950551599264145, 0.1197754368185997, 0.11006470024585724, 0.1212415024638176, 0.10043764114379883, 0.09722675383090973, 0.16935378313064575, 0.10970782488584518, 0.08938799798488617, 0.15766450762748718, 0.08087415993213654, 0.09955817461013794, 0.11890311539173126, 0.14609871804714203, 0.08513956516981125, 0.08122348040342331, 0.10144434124231339, 0.13445034623146057, 0.13336646556854248, 0.07675832509994507, 0.13043105602264404, 0.10457761585712433, 0.11508898437023163, 0.08424671739339828, 0.14656561613082886, 0.2902640402317047, 0.1404440999031067, 0.07990586012601852, 0.1944773644208908, 0.12829366326332092, 0.14873993396759033, 0.09749837964773178, 0.1487693190574646, 0.19686849415302277, 0.09928156435489655, 0.1244574636220932, 0.091870978474617, 0.13242509961128235, 0.10046274214982986, 0.10979621857404709, 0.12130555510520935, 0.10579703748226166, 0.12242408096790314, 0.12340893596410751, 0.17143554985523224, 0.1897311806678772, 0.10915304720401764, 0.09476446360349655, 0.11207021027803421, 0.07787502557039261, 0.14874984323978424, 0.12935705482959747, 0.0889664962887764, 0.12174335867166519, 0.09153002500534058, 0.07715078443288803, 0.11641289293766022, 0.09441384673118591, 0.09057865291833878, 0.06987062841653824, 0.14174427092075348, 0.09310074895620346, 0.11412739753723145, 0.2028275728225708, 0.1289578676223755, 0.08329896628856659, 0.13284431397914886, 0.13347651064395905, 0.07163691520690918, 0.11951576173305511, 0.14528444409370422, 0.1808297485113144, 0.13485245406627655, 0.07619644701480865, 0.15183593332767487, 0.15717847645282745, 0.09428662061691284, 0.11862746626138687, 0.10955346375703812, 0.1063409224152565, 0.10271567106246948, 0.11783649772405624, 0.11798874288797379, 0.10647014528512955, 0.1242535412311554, 0.14518891274929047, 0.10011894255876541, 0.09401711821556091, 0.08380967378616333, 0.11100073903799057, 0.0854550451040268, 0.2096863090991974, 0.10479924082756042, 0.2233598828315735, 0.10804495215415955, 0.0835060328245163, 0.10157772898674011, 0.1264009177684784, 0.17317098379135132, 0.11797759681940079, 0.12026235461235046, 0.12478113919496536, 0.10325589776039124, 0.1038985550403595, 0.08573221415281296, 0.15310879051685333, 0.12100354582071304, 0.0803970992565155, 0.12175770848989487, 0.08057954907417297, 0.12309163808822632, 0.19981606304645538, 0.11219409108161926, 0.0776020735502243, 0.16738803684711456, 0.12813958525657654, 0.10088087618350983, 0.13041096925735474, 0.10696901381015778, 0.13086745142936707, 0.09491793066263199, 0.10363610088825226, 0.10664642602205276, 0.0780949592590332, 0.20138941705226898, 0.13277344405651093, 0.08572157472372055, 0.10628872364759445, 0.12933975458145142, 0.20239153504371643, 0.09053646773099899, 0.11997529119253159, 0.08661747723817825, 0.07641716301441193, 0.18013572692871094, 0.12134739011526108, 0.12330162525177002, 0.22999198734760284, 0.11375521123409271, 0.08389122784137726, 0.13793526589870453, 0.1257050782442093, 0.19724619388580322, 0.11681830137968063, 0.13485963642597198, 0.1982341855764389, 0.09565593302249908, 0.10583597421646118, 0.08965853601694107, 0.12470414489507675, 0.14280357956886292, 0.12542706727981567, 0.09637989848852158, 0.18566618859767914, 0.08263803273439407, 0.08796118944883347, 0.12122029811143875, 0.08342436701059341, 0.11946508288383484, 0.08111877739429474, 0.11695736646652222, 0.11040093749761581, 0.10503197461366653, 0.15987057983875275, 0.11845537275075912, 0.15904347598552704, 0.2061973214149475, 0.09535080194473267, 0.1501178741455078, 0.07752017676830292, 0.1127609983086586, 0.10332012921571732, 0.165071040391922, 0.12571141123771667, 0.09713847190141678, 0.07968854159116745, 0.12868833541870117, 0.10047029703855515, 0.1799546182155609, 0.07858175784349442, 0.14912210404872894, 0.108989417552948, 0.07767189294099808, 0.08973030000925064, 0.07694460451602936, 0.11180072277784348, 0.11706764250993729, 0.08632741868495941, 0.08435113728046417, 0.11374818533658981, 0.14666588604450226, 0.07145895808935165, 0.29116272926330566, 0.07573842257261276, 0.08173573017120361, 0.20714513957500458, 0.12063442170619965, 0.09263170510530472, 0.08708894997835159, 0.16348493099212646, 0.206403911113739, 0.08586547523736954, 0.09599919617176056, 0.13458994030952454, 0.08569534122943878, 0.10325944423675537, 0.14310802519321442, 0.14519648253917694, 0.10306427627801895, 0.16162899136543274, 0.11699023097753525, 0.12891927361488342, 0.1361987292766571, 0.10632183402776718, 0.09081533551216125, 0.08032834529876709, 0.17337363958358765, 0.14065000414848328, 0.10227670520544052, 0.16278164088726044, 0.0803060457110405, 0.13445046544075012, 0.1496484875679016, 0.1259477287530899, 0.10685878247022629, 0.13565993309020996, 0.09273961931467056, 0.10178520530462265, 0.23646116256713867, 0.11916425824165344, 0.13599227368831635, 0.12091676890850067, 0.1214827299118042, 0.15331029891967773, 0.23348042368888855, 0.1488216370344162, 0.11052270978689194, 0.12171591073274612, 0.09578365087509155, 0.1097116470336914, 0.12392367422580719, 0.1087895929813385, 0.09269830584526062, 0.14766718447208405, 0.13402873277664185, 0.16343122720718384, 0.11672234535217285, 0.09139926731586456, 0.10566136240959167, 0.1353287547826767, 0.1064806655049324, 0.0872778668999672, 0.1528133749961853, 0.09639228135347366, 0.0959361344575882, 0.1339406967163086, 0.1426992267370224, 0.09830140322446823, 0.14963722229003906, 0.13018305599689484, 0.1355639100074768, 0.1512773483991623, 0.11221853643655777, 0.10921123623847961, 0.07537836581468582, 0.13559716939926147, 0.12423286586999893, 0.07870075851678848, 0.12014330923557281, 0.10275910049676895, 0.16307076811790466, 0.11254630982875824, 0.09661173075437546, 0.18148021399974823, 0.10592374205589294, 0.1241590827703476, 0.14725472033023834, 0.11893904209136963, 0.12212495505809784, 0.11306584626436234, 0.07705193012952805, 0.09870275110006332, 0.09260434657335281, 0.2164013385772705, 0.17757846415042877, 0.15832504630088806, 0.1820676326751709, 0.12988168001174927, 0.1616806834936142, 0.09809628129005432, 0.24080562591552734, 0.12789450585842133, 0.15895260870456696, 0.14024408161640167, 0.15469686686992645, 0.12172678858041763, 0.11575689166784286, 0.12515996396541595, 0.11900119483470917, 0.11833278089761734, 0.10823218524456024, 0.0868011936545372, 0.1274690330028534, 0.08977092057466507, 0.08381550759077072, 0.0926036536693573, 0.09540963917970657, 0.09138501435518265, 0.1362522840499878, 0.13754954934120178, 0.07632889598608017, 0.09635873883962631, 0.11342935264110565, 0.082769013941288, 0.10091977566480637, 0.08040212094783783, 0.12565992772579193, 0.2556167244911194, 0.18774302303791046, 0.11308446526527405, 0.08817124366760254, 0.18675664067268372, 0.16958540678024292, 0.10538077354431152, 0.0880599319934845, 0.14778080582618713, 0.2047748863697052, 0.11952632665634155, 0.1441507786512375, 0.1044798195362091, 0.1076168417930603, 0.12167728692293167, 0.17261874675750732, 0.1631799191236496, 0.14428173005580902, 0.16456620395183563, 0.10428005456924438, 0.10294468700885773, 0.10818164050579071, 0.16746893525123596, 0.08857086300849915, 0.15746253728866577, 0.1409941166639328, 0.1020645871758461, 0.12779079377651215, 0.18290801346302032, 0.19112232327461243, 0.1299583464860916, 0.09855341911315918, 0.10886514186859131, 0.10975107550621033, 0.10264399647712708, 0.0838426798582077, 0.09312491118907928, 0.1114506646990776, 0.15780504047870636, 0.11300267279148102, 0.18829233944416046, 0.11389454454183578, 0.12027455121278763, 0.1233544871211052, 0.1064373254776001, 0.1288851946592331, 0.16320829093456268, 0.14098605513572693, 0.13939324021339417, 0.12086760997772217, 0.1940881311893463, 0.11420857161283493, 0.09870828688144684, 0.13573817908763885, 0.15528614819049835, 0.13043218851089478, 0.1452360451221466, 0.1132083311676979, 0.13372284173965454, 0.21786728501319885, 0.09313251078128815, 0.10180933028459549, 0.10300199687480927, 0.11871227622032166, 0.10404939204454422, 0.1248941570520401, 0.1106635257601738, 0.09539706259965897, 0.14561405777931213, 0.12417051196098328, 0.0899495929479599, 0.07486850768327713, 0.12628954648971558, 0.12735716998577118, 0.1580197811126709, 0.12290697544813156, 0.11008390039205551, 0.13639427721500397, 0.1510859876871109, 0.1724243462085724, 0.12972664833068848, 0.0996691882610321, 0.11511532217264175, 0.07730963826179504, 0.1596413403749466, 0.13830889761447906, 0.0962718278169632, 0.1023019552230835, 0.12327450513839722, 0.11393870413303375, 0.10763704776763916, 0.13522273302078247, 0.08366959542036057, 0.11611873656511307, 0.25051161646842957, 0.1086210310459137, 0.08822730928659439, 0.095888152718544, 0.15391841530799866, 0.1472988873720169, 0.09064524620771408, 0.1729791909456253, 0.14208805561065674, 0.09741178900003433, 0.07857052236795425, 0.19961118698120117, 0.0884794145822525, 0.1637762486934662, 0.09091010689735413, 0.16485463082790375, 0.14310511946678162, 0.1347779780626297, 0.15050679445266724, 0.16035914421081543, 0.11709762364625931, 0.1309523582458496, 0.11082528531551361, 0.08442772924900055, 0.09077854454517365, 0.09300600737333298, 0.1648947149515152, 0.10809805244207382, 0.10979305952787399, 0.08392386883497238, 0.08422129601240158, 0.08028344810009003, 0.1702416092157364, 0.15761040151119232, 0.18323443830013275, 0.1687575727701187, 0.12920215725898743, 0.07551240921020508, 0.07355905324220657, 0.15791189670562744, 0.15196754038333893, 0.11784171313047409, 0.11083170771598816, 0.09658312797546387, 0.18368065357208252, 0.13613206148147583, 0.11108346283435822, 0.09229514002799988, 0.09800289571285248, 0.0824916884303093, 0.15752235054969788, 0.12127608805894852, 0.21474964916706085, 0.13512183725833893, 0.11026091128587723, 0.08338085561990738, 0.08389675617218018, 0.10340400040149689, 0.10253012180328369, 0.14155802130699158, 0.11031332612037659, 0.10468874871730804, 0.08599741011857986, 0.1165737435221672, 0.23122389614582062, 0.09954994916915894, 0.1238422617316246, 0.19581596553325653, 0.09016641229391098, 0.0933772400021553, 0.2835204303264618, 0.11249032616615295, 0.1041991263628006, 0.1395750343799591, 0.16290606558322906, 0.10185395181179047, 0.1440979540348053, 0.11447706073522568, 0.1936338096857071, 0.18255598843097687, 0.10346586257219315, 0.1706501543521881, 0.08818395435810089, 0.08869975805282593, 0.1293630301952362, 0.11257914453744888, 0.1424671858549118, 0.14982204139232635, 0.10602570325136185, 0.16967307031154633, 0.09163399040699005, 0.0971008688211441, 0.18066513538360596, 0.18179967999458313, 0.10882395505905151, 0.08844287693500519, 0.07641447335481644, 0.1333259791135788, 0.17275889217853546, 0.11077012866735458, 0.1032295823097229, 0.0959535613656044, 0.11482103168964386, 0.13022318482398987, 0.08359596133232117, 0.11886776238679886, 0.08303732424974442, 0.09810640662908554, 0.09103184193372726, 0.15545490384101868, 0.12334056943655014, 0.1942008137702942, 0.08046222478151321, 0.11776808649301529, 0.16845940053462982, 0.10844599455595016, 0.11162763088941574, 0.15295498073101044, 0.11547636240720749, 0.1052951067686081, 0.09201370179653168, 0.11552578210830688, 0.1675565242767334, 0.09743943065404892, 0.18052922189235687, 0.19099318981170654, 0.18308967351913452, 0.14347036182880402, 0.1638205498456955, 0.12754623591899872, 0.12158393114805222, 0.13793988525867462, 0.09888489544391632, 0.16774044930934906, 0.1081300675868988, 0.11341885477304459, 0.08260450512170792, 0.20602092146873474, 0.1564241498708725, 0.1455126851797104, 0.10015568882226944, 0.14153887331485748, 0.1290460228919983, 0.15464353561401367, 0.1511092185974121, 0.16078445315361023, 0.1267932951450348, 0.08749470114707947, 0.10494932532310486, 0.11703398078680038, 0.2010897696018219, 0.11331218481063843, 0.17103992402553558, 0.08162156492471695, 0.09963170439004898, 0.23356996476650238, 0.1218099594116211, 0.0986383706331253, 0.13910862803459167, 0.20095083117485046, 0.17121797800064087, 0.16219955682754517, 0.10252656787633896, 0.10181212425231934, 0.09835150837898254, 0.15700849890708923, 0.14195896685123444, 0.11505153775215149, 0.14314453303813934, 0.09802751988172531, 0.1279381960630417, 0.13603796064853668, 0.0826958417892456, 0.0951537936925888, 0.1287073940038681, 0.11637821048498154, 0.13861216604709625, 0.14323975145816803, 0.13445989787578583, 0.1090925931930542, 0.11626798659563065, 0.10471303015947342, 0.14569471776485443, 0.13826920092105865, 0.09738350659608841, 0.14322488009929657, 0.10576009005308151, 0.13240505754947662, 0.08526008576154709, 0.16827356815338135, 0.09441543370485306, 0.10209358483552933, 0.13135023415088654, 0.09337782114744186, 0.12024042010307312, 0.14503543078899384, 0.0803757980465889, 0.15571367740631104, 0.12110206484794617, 0.17582494020462036, 0.12830884754657745, 0.10757743567228317, 0.19183166325092316, 0.08132003247737885, 0.14159412682056427, 0.10079016536474228, 0.0996229276061058, 0.1492542028427124, 0.10467284917831421, 0.21480706334114075, 0.11778584867715836, 0.13962778449058533, 0.09367842227220535, 0.12539634108543396, 0.08884764462709427, 0.082766592502594, 0.16332097351551056, 0.08026411384344101, 0.11415756493806839, 0.10099072754383087, 0.1630689650774002, 0.16648975014686584, 0.14365704357624054, 0.21629473567008972, 0.09504420310258865, 0.18707625567913055, 0.13227799534797668, 0.1645875722169876, 0.08970806747674942, 0.08307403326034546, 0.10941945016384125, 0.12364371865987778, 0.12397781759500504, 0.09941337257623672, 0.2183835655450821, 0.07628383487462997, 0.15147174894809723, 0.1969836801290512, 0.1362537294626236, 0.22933325171470642, 0.1509586125612259, 0.15659120678901672, 0.1084606945514679, 0.11357182264328003, 0.10746181011199951, 0.0867517814040184, 0.17808856070041656, 0.12874166667461395, 0.12962660193443298, 0.098513662815094, 0.09998247772455215, 0.16633091866970062, 0.07928935438394547, 0.08194559812545776, 0.09980719536542892, 0.0970451682806015, 0.09053303301334381, 0.0773218423128128, 0.11046961694955826, 0.08425382524728775, 0.12487442046403885, 0.07706300914287567, 0.08098597824573517, 0.11029594391584396, 0.14024217426776886, 0.07759422063827515, 0.12155413627624512, 0.08814045041799545, 0.0735621377825737, 0.11395543813705444, 0.11906211078166962, 0.08182433247566223, 0.09362690895795822, 0.1445930153131485, 0.1408400535583496, 0.09998949617147446, 0.13915064930915833, 0.09367422014474869, 0.07493952661752701, 0.1142512783408165, 0.08016563951969147, 0.10226466506719589, 0.12467209994792938, 0.11545927077531815, 0.14079298079013824, 0.1011674627661705, 0.12257219851016998, 0.1622396558523178, 0.14495210349559784, 0.10334013402462006, 0.10926465690135956, 0.1269976645708084, 0.17678460478782654, 0.09048282355070114, 0.12790565192699432, 0.1326761096715927, 0.25709858536720276, 0.12487117201089859, 0.10181283205747604, 0.09415163099765778, 0.09035183489322662, 0.10190879553556442, 0.08103116601705551, 0.13260965049266815, 0.1843279004096985, 0.11285007745027542, 0.12461551278829575, 0.08275307714939117, 0.14443302154541016, 0.08053023368120193, 0.15551209449768066, 0.11140819638967514, 0.07230973988771439, 0.1442350447177887, 0.15542010962963104, 0.1533380150794983, 0.09766877442598343, 0.09580199420452118, 0.10305899381637573, 0.18320780992507935, 0.08309466391801834, 0.08654804527759552, 0.11531772464513779, 0.08690030872821808, 0.15249720215797424, 0.18201258778572083, 0.11916818469762802, 0.1313166618347168, 0.1947021335363388, 0.0926484614610672, 0.11943981051445007, 0.12637923657894135, 0.1691242754459381, 0.14337696135044098, 0.10799027979373932, 0.08743011206388474, 0.14949177205562592, 0.16592559218406677, 0.08100242912769318, 0.13217167556285858, 0.10548770427703857, 0.1586098074913025, 0.15696662664413452, 0.09797157347202301, 0.1611441671848297, 0.09312523901462555, 0.15671342611312866, 0.07589106261730194, 0.08293590694665909, 0.17333300411701202, 0.10607925057411194, 0.1916745901107788, 0.1317114681005478, 0.1834610551595688, 0.15145127475261688, 0.18785293400287628, 0.1081794872879982, 0.10802699625492096, 0.16546691954135895, 0.15272368490695953, 0.08120815455913544, 0.19226141273975372, 0.09077069908380508, 0.11094071716070175, 0.15135838091373444, 0.09683439880609512, 0.10660360753536224, 0.08728580176830292, 0.14735616743564606, 0.12982451915740967, 0.17205294966697693, 0.15194272994995117, 0.11190613359212875, 0.14474765956401825, 0.09445672482252121, 0.11567898839712143, 0.17083871364593506, 0.08136160671710968, 0.09575539082288742, 0.12814100086688995, 0.0856173038482666, 0.11778237670660019, 0.12729789316654205, 0.19147631525993347, 0.10783164203166962, 0.1153157502412796, 0.09537872672080994, 0.08411375433206558, 0.0848793089389801, 0.12074437737464905, 0.15033718943595886, 0.2077571004629135, 0.09033678472042084, 0.09103991091251373, 0.10204747319221497, 0.09774855524301529, 0.10352794826030731, 0.2356666624546051, 0.09472213685512543, 0.09261064976453781, 0.1032126173377037, 0.18525148928165436, 0.18030138313770294, 0.15698058903217316, 0.10560458898544312, 0.09497005492448807, 0.20763449370861053, 0.1149509996175766, 0.14210130274295807, 0.17729198932647705, 0.0855124443769455, 0.15359462797641754, 0.08800169080495834, 0.09058827906847, 0.1568574756383896, 0.0858423039317131, 0.1600368171930313, 0.09118484705686569, 0.10031276941299438, 0.14931221306324005, 0.08881150931119919, 0.13597960770130157, 0.08107563108205795, 0.09794251620769501, 0.07828614115715027, 0.1747359335422516, 0.09432061016559601, 0.11121401935815811, 0.12325244396924973, 0.16648642718791962, 0.16475027799606323, 0.15996697545051575, 0.09869039058685303, 0.15461452305316925, 0.09494848549365997, 0.1809159368276596, 0.12776656448841095, 0.08795195817947388, 0.09864985197782516, 0.1406819224357605, 0.12672188878059387, 0.10340050607919693, 0.11977966874837875, 0.0998954176902771, 0.08982744812965393, 0.12160632014274597, 0.10454623401165009, 0.21908168494701385, 0.10495805740356445, 0.10938072949647903, 0.08648406714200974, 0.14400294423103333, 0.07851865887641907, 0.1412906050682068, 0.1630098521709442, 0.08230514824390411, 0.09644743800163269, 0.07735113799571991, 0.08528245985507965, 0.12934672832489014, 0.11617293208837509, 0.15539918839931488, 0.08486958593130112, 0.10902543365955353, 0.18029478192329407, 0.0779397189617157, 0.2054610550403595, 0.10968951880931854, 0.1321670413017273, 0.16056989133358002, 0.13382209837436676, 0.1104414090514183, 0.14046920835971832, 0.10683659464120865]\n",
            "3617\n"
          ]
        }
      ],
      "source": [
        "print(loss_history)\n",
        "print(len(loss_history))"
      ]
    },
    {
      "cell_type": "code",
      "execution_count": null,
      "metadata": {
        "id": "FINQsvIxIGhl",
        "colab": {
          "base_uri": "https://localhost:8080/",
          "height": 472
        },
        "outputId": "c92b0dd9-33ed-4aef-a581-503451185bac"
      },
      "outputs": [
        {
          "output_type": "display_data",
          "data": {
            "text/plain": [
              "<Figure size 640x480 with 1 Axes>"
            ],
            "image/png": "[encoded data removed]"
          },
          "metadata": {}
        }
      ],
      "source": [
        "import matplotlib.pyplot as plt\n",
        "\n",
        "plt.plot(loss_history)\n",
        "plt.title('Training loss')\n",
        "plt.ylabel('loss')\n",
        "plt.xlabel('batch')\n",
        "plt.legend(['loss'], loc='upper right')\n",
        "plt.show()"
      ]
    },
    {
      "cell_type": "code",
      "execution_count": null,
      "metadata": {
        "id": "849t_91kIJan"
      },
      "outputs": [],
      "source": [
        "model_to_save = model.module if hasattr(model, 'module') else model\n",
        "model_to_save.save_pretrained(\"/content/gdrive/Shareddrives/anzi/B/model\")"
      ]
    },
    {
      "cell_type": "code",
      "execution_count": null,
      "metadata": {
        "id": "-G39TT5aKCTu"
      },
      "outputs": [],
      "source": [
        "from transformers import BertTokenizer, BertForMaskedLM\n",
        "\n",
        "tokenizer = BertTokenizer.from_pretrained(PLM)\n",
        "model = BertForMaskedLM.from_pretrained(\"/content/gdrive/Shareddrives/anzi/B/model\")\n",
        "model.eval()"
      ]
    },
    {
      "cell_type": "code",
      "execution_count": null,
      "metadata": {
        "id": "lE8fD4qIKeK5"
      },
      "outputs": [],
      "source": [
        "questions = {\n",
        "    \"q1\": {\n",
        "        \"sentence\": \"To make Jane live a [MASK] life, Mother was very careful about spending money. [SEP] happy\",\n",
        "        \"answer\": \"happy\",\n",
        "        \"distractors\": [\"poor\", \"busy\", \"sad\"]\n",
        "    },\n",
        "    \"q2\": {\n",
        "        \"sentence\": \"[MASK] , Jane didn't understand her. [SEP] However\",\n",
        "        \"answer\": \"However\",\n",
        "        \"distractors\": [\"Though\", \"Although\", \"Or\"]\n",
        "    },\n",
        "    \"q3\": {\n",
        "        \"sentence\": \"Every day Mother was busy with her [MASK] while Jane was studying at school, so they had little time to enjoy themselves. [SEP] work\",\n",
        "        \"answer\": \"work\",\n",
        "        \"distractors\": [\"writing\", \"housework\", \"research\"]\n",
        "    },\n",
        "    \"q4\": {\n",
        "        \"sentence\": \"One day, Mother realized Jane was unhappy and even [MASK] to her. [SEP] unfriendly\",\n",
        "        \"answer\": \"unfriendly\",\n",
        "        \"distractors\": [\"loyal\", \"kind\", \"cruel\"]\n",
        "    },\n",
        "    \"q5\": {\n",
        "        \"sentence\": \"The old man was waiting for a ride across the [MASK] . [SEP] river\",\n",
        "        \"answer\": \"river\",\n",
        "        \"distractors\": [\"town\", \"country\", \"island\"]\n",
        "    },\n",
        "    \"q6\": {\n",
        "        \"sentence\": \"I felt uncomfortable and out of place as the professor carefully [MASK] what she expected us to learn. [SEP] explained\",\n",
        "        \"answer\": \"explained\",\n",
        "        \"distractors\": [\"showed\", \"designed\", \"offered\"]\n",
        "    },\n",
        "    \"q7\": {\n",
        "        \"sentence\": \"As I listened, I couldn't help but [MASK] of my own oldest daughter. [SEP] think\",\n",
        "        \"answer\": \"think\",\n",
        "        \"distractors\": [\"speak\", \"talk\", \"hear\"]\n",
        "    },\n",
        "    \"q8\": {\n",
        "        \"sentence\": \"As we were [MASK] on the third floor for old people with Alzheimer, most of them stared off at the walls or floor. [SEP] singing\",\n",
        "        \"answer\": \"singing\",\n",
        "        \"distractors\": [\"meeting\", \"gathering\", \"dancing\"]\n",
        "    },\n",
        "    \"q9\": {\n",
        "        \"sentence\": \"As we got [MASK] with each song, she did as well. [SEP] louder\",\n",
        "        \"answer\": \"louder\",\n",
        "        \"distractors\": [\"higher\", \"nearer\", \"faster\"]\n",
        "    },\n",
        "    \"q10\": {\n",
        "        \"sentence\": \"Mr. Petri, [MASK] injured in the fire, was rushed to hospital. [SEP] seriously\",\n",
        "        \"answer\": \"seriously\",\n",
        "        \"distractors\": [\"blindly\", \"hardly\", \"slightly\"]\n",
        "    },\n",
        "    \"q11\": {\n",
        "        \"sentence\": \"If an object is attracted to a magnet, the object is most likely made of [MASK]. [SEP] metal\",\n",
        "        \"answer\": \"metal\",\n",
        "        \"distractors\": [\"wood\", \"plastic\", \"cardboard\"]\n",
        "    },\n",
        "    \"q12\": {\n",
        "        \"sentence\": \"the main organs of the respiratory system are [MASK]. [SEP] lungs\",\n",
        "        \"answer\": \"lungs\",\n",
        "        \"distractors\": [\"ovaries\", \"intestines\", \"kidneys\"]\n",
        "    },\n",
        "    \"q13\": {\n",
        "        \"sentence\": \"The products of photosynthesis are glucose and [MASK] else. [SEP] oxygen\",\n",
        "        \"answer\": \"oxygen\",\n",
        "        \"distractors\": [\"carbon\", \"hydrogen\", \"nitrogen\"]\n",
        "    },\n",
        "    \"q14\": {\n",
        "        \"sentence\": \"frogs have [MASK] eyelid membranes. [SEP] three\",\n",
        "        \"answer\": \"three\",\n",
        "        \"distractors\": [\"two\", \"four\", \"one\"]\n",
        "    },\n",
        "    \"q15\": {\n",
        "        \"sentence\": \"the only known planet with large amounts of water is [MASK]. [SEP] earth\",\n",
        "        \"answer\": \"earth\",\n",
        "        \"distractors\": [\"saturn\", \"jupiter\", \"mars\"]\n",
        "    },\n",
        "    \"q16\": {\n",
        "        \"sentence\": \"[MASK] is responsible for erosion by flowing water and glaciers. [SEP] gravity\",\n",
        "        \"answer\": \"gravity\",\n",
        "        \"distractors\": [\"kinetic\", \"electromagnetic\", \"weight\"],\n",
        "    },\n",
        "    \"q17\": {\n",
        "        \"sentence\": \"Common among mammals and insects , pheromones are often related to [MASK] type of behavior. [SEP] reproductive\",\n",
        "        \"answer\": \"reproductive\",\n",
        "        \"distractors\": [\"aggressive\", \"immune\", \"cardiac\"]\n",
        "    },\n",
        "    \"q18\": {\n",
        "        \"sentence\": \"[MASK] can reproduce by infecting the cell of a living host. [SEP] virus\",\n",
        "        \"answer\": \"virus\",\n",
        "        \"distractors\": [\"bacteria\", \"mucus\", \"carcinogens\"]\n",
        "    },\n",
        "    \"q19\": {\n",
        "        \"sentence\": \"proteins are encoded by [MASK]. [SEP] genes\",\n",
        "        \"answer\": \"genes\",\n",
        "        \"distractors\": [\"DNA\", \"RNA\", \"codons\"]\n",
        "    },\n",
        "    \"q20\": {\n",
        "        \"sentence\": \"Producers at the base of ecological food webs are also known as [MASK]. [SEP] autotrophic\",\n",
        "        \"answer\": \"autotrophic\",\n",
        "        \"distractors\": [\"endoscopic\", \"symbiotic\", \"mutualistic\"],\n",
        "    },\n",
        "    \"q21\": {\n",
        "        \"sentence\": \"Today morning, I saw a [MASK] sitting on the wall. [SEP] cat\",\n",
        "        \"answer\": \"cat\",\n",
        "        \"distractors\": [],\n",
        "    },\n",
        "    \"q22\": {\n",
        "        \"sentence\": \"Ukrainian presidential adviser says situation is ' [MASK] control' in suburbs and outskirts of Kyiv. [SEP] under\",\n",
        "        \"answer\": \"under\",\n",
        "        \"distractors\": [],\n",
        "    },\n",
        "    \"q23\": {\n",
        "        \"sentence\": \"I don't think that after what is [MASK] now, Ukraine has weak positions. [SEP] happening\",\n",
        "        \"answer\": \"happening\",\n",
        "        \"distractors\": [],\n",
        "    },\n",
        "    \"q24\": {\n",
        "        \"sentence\": \"Circular shapes are also stronger and resist deformation, and therefore can [MASK] extreme differences in pressure inside and outside of an aircraft. [SEP] tolerate\",\n",
        "        \"answer\": \"tolerate\",\n",
        "        \"distractors\": [],\n",
        "    },\n",
        "    \"q25\": {\n",
        "        \"sentence\": \"Bobby cared a lot about his [MASK] at home and asked his parents not to go through his things without his permission. [SEP] privacy\",\n",
        "        \"answer\": \"privacy\",\n",
        "        \"distractors\": [],\n",
        "    }\n",
        "}"
      ]
    },
    {
      "cell_type": "code",
      "execution_count": null,
      "metadata": {
        "id": "6xrtfNlgKgTH"
      },
      "outputs": [],
      "source": [
        "from transformers import pipeline\n",
        "\n",
        "unmasker = pipeline(\"fill-mask\", tokenizer=tokenizer, model=model, top_k=10)"
      ]
    },
    {
      "cell_type": "code",
      "execution_count": null,
      "metadata": {
        "id": "TedWyJu6KkTQ",
        "colab": {
          "base_uri": "https://localhost:8080/"
        },
        "outputId": "c30286b6-a3b6-404f-829d-2585fa3aa660"
      },
      "outputs": [
        {
          "output_type": "execute_result",
          "data": {
            "text/plain": [
              "[{'score': 0.03046746365725994,\n",
              "  'token': 8568,\n",
              "  'token_str': 'ignore',\n",
              "  'sequence': 'circular shapes are also stronger and resist deformation, and therefore can ignore extreme differences in pressure inside and outside of an aircraft. tolerate'},\n",
              " {'score': 0.027179785072803497,\n",
              "  'token': 3623,\n",
              "  'token_str': 'increase',\n",
              "  'sequence': 'circular shapes are also stronger and resist deformation, and therefore can increase extreme differences in pressure inside and outside of an aircraft. tolerate'},\n",
              " {'score': 0.022746169939637184,\n",
              "  'token': 16014,\n",
              "  'token_str': 'predict',\n",
              "  'sequence': 'circular shapes are also stronger and resist deformation, and therefore can predict extreme differences in pressure inside and outside of an aircraft. tolerate'},\n",
              " {'score': 0.017113694921135902,\n",
              "  'token': 2491,\n",
              "  'token_str': 'control',\n",
              "  'sequence': 'circular shapes are also stronger and resist deformation, and therefore can control extreme differences in pressure inside and outside of an aircraft. tolerate'},\n",
              " {'score': 0.015703614801168442,\n",
              "  'token': 5478,\n",
              "  'token_str': 'require',\n",
              "  'sequence': 'circular shapes are also stronger and resist deformation, and therefore can require extreme differences in pressure inside and outside of an aircraft. tolerate'},\n",
              " {'score': 0.015644563362002373,\n",
              "  'token': 4468,\n",
              "  'token_str': 'avoid',\n",
              "  'sequence': 'circular shapes are also stronger and resist deformation, and therefore can avoid extreme differences in pressure inside and outside of an aircraft. tolerate'},\n",
              " {'score': 0.013411758467555046,\n",
              "  'token': 3073,\n",
              "  'token_str': 'provide',\n",
              "  'sequence': 'circular shapes are also stronger and resist deformation, and therefore can provide extreme differences in pressure inside and outside of an aircraft. tolerate'},\n",
              " {'score': 0.011607462540268898,\n",
              "  'token': 2421,\n",
              "  'token_str': 'include',\n",
              "  'sequence': 'circular shapes are also stronger and resist deformation, and therefore can include extreme differences in pressure inside and outside of an aircraft. tolerate'},\n",
              " {'score': 0.011451768688857555,\n",
              "  'token': 3965,\n",
              "  'token_str': 'produce',\n",
              "  'sequence': 'circular shapes are also stronger and resist deformation, and therefore can produce extreme differences in pressure inside and outside of an aircraft. tolerate'},\n",
              " {'score': 0.01137309055775404,\n",
              "  'token': 3443,\n",
              "  'token_str': 'create',\n",
              "  'sequence': 'circular shapes are also stronger and resist deformation, and therefore can create extreme differences in pressure inside and outside of an aircraft. tolerate'}]"
            ]
          },
          "metadata": {},
          "execution_count": 29
        }
      ],
      "source": [
        "unmasker(questions[\"q24\"][\"sentence\"])"
      ]
    },
    {
      "cell_type": "code",
      "execution_count": null,
      "metadata": {
        "colab": {
          "base_uri": "https://localhost:8080/"
        },
        "id": "jIySb_z-MXxS",
        "outputId": "f940fe4c-ca2d-404b-dbc9-c03f9f06512a"
      },
      "outputs": [
        {
          "data": {
            "text/plain": [
              "[{'score': 0.11980657279491425,\n",
              "  'token': 2155,\n",
              "  'token_str': 'family',\n",
              "  'sequence': 'bobby cared a lot about his family at home and asked his parents not to go through his things without his permission. privacy'},\n",
              " {'score': 0.03588053211569786,\n",
              "  'token': 2814,\n",
              "  'token_str': 'friends',\n",
              "  'sequence': 'bobby cared a lot about his friends at home and asked his parents not to go through his things without his permission. privacy'},\n",
              " {'score': 0.0346313938498497,\n",
              "  'token': 2925,\n",
              "  'token_str': 'future',\n",
              "  'sequence': 'bobby cared a lot about his future at home and asked his parents not to go through his things without his permission. privacy'},\n",
              " {'score': 0.027893584221601486,\n",
              "  'token': 2740,\n",
              "  'token_str': 'health',\n",
              "  'sequence': 'bobby cared a lot about his health at home and asked his parents not to go through his things without his permission. privacy'},\n",
              " {'score': 0.0271416287869215,\n",
              "  'token': 2147,\n",
              "  'token_str': 'work',\n",
              "  'sequence': 'bobby cared a lot about his work at home and asked his parents not to go through his things without his permission. privacy'},\n",
              " {'score': 0.019854409620165825,\n",
              "  'token': 2166,\n",
              "  'token_str': 'life',\n",
              "  'sequence': 'bobby cared a lot about his life at home and asked his parents not to go through his things without his permission. privacy'},\n",
              " {'score': 0.018750501796603203,\n",
              "  'token': 9064,\n",
              "  'token_str': 'relatives',\n",
              "  'sequence': 'bobby cared a lot about his relatives at home and asked his parents not to go through his things without his permission. privacy'},\n",
              " {'score': 0.017551450058817863,\n",
              "  'token': 3105,\n",
              "  'token_str': 'job',\n",
              "  'sequence': 'bobby cared a lot about his job at home and asked his parents not to go through his things without his permission. privacy'},\n",
              " {'score': 0.013736067339777946,\n",
              "  'token': 2769,\n",
              "  'token_str': 'money',\n",
              "  'sequence': 'bobby cared a lot about his money at home and asked his parents not to go through his things without his permission. privacy'},\n",
              " {'score': 0.012109731324017048,\n",
              "  'token': 2476,\n",
              "  'token_str': 'career',\n",
              "  'sequence': 'bobby cared a lot about his career at home and asked his parents not to go through his things without his permission. privacy'}]"
            ]
          },
          "execution_count": 39,
          "metadata": {},
          "output_type": "execute_result"
        }
      ],
      "source": [
        "unmasker(questions[\"q25\"][\"sentence\"])"
      ]
    },
    {
      "cell_type": "code",
      "source": [
        "from tqdm import tqdm\n",
        "import os\n",
        "from transformers import RobertaTokenizer, RobertaForMaskedLM, pipeline\n",
        "import numpy as np\n",
        "import fasttext\n",
        "import nltk\n",
        "from nltk.tokenize import word_tokenize\n",
        "import json\n",
        "\n",
        "\n",
        "# Global variables\n",
        "CSG_MODEL = \"./cdgp-csg-roberta1-dgen\"\n",
        "DS_MODEL = \"/kaggle/working/cdgp-ds-fasttext/cdgp-ds-fasttext.bin\"\n",
        "DATASET = \"./CLOTH/CLOTH_test_cleaned.json\"\n",
        "RESULT = \"roberta_CLOTH(k=10)\"\n",
        "TOP_K = 10\n",
        "STOP_WORDS = [\"[MASK]\", \"[SEP]\", \"[PAD]\", \"[CLS]\"]\n",
        "WEIGHT = {\"s0\": 0.6, \"s1\": 0.15, \"s2\": 0.15, \"s3\": 0.1}\n",
        "# WEIGHT = {\"s0\": 0.25, \"s1\": 0.25, \"s2\": 0.25, \"s3\": 0.25}\n",
        "QUESTION_LIMIT = 500\n",
        "\n",
        "\n",
        "def main():\n",
        "    # Load CSG model\n",
        "    print(f\"Load CSG model at {CSG_MODEL}...\")\n",
        "    tokenizer = RobertaTokenizer.from_pretrained(\"AndyChiang/cdgp-csg-roberta-cloth\")\n",
        "    csg_model = RobertaForMaskedLM.from_pretrained(\"AndyChiang/cdgp-csg-roberta-cloth\")\n",
        "\n",
        "    # Create a unmasker\n",
        "    unmasker = pipeline('fill-mask', tokenizer=tokenizer, model=csg_model, top_k=TOP_K)\n",
        "\n",
        "    # Load DS model\n",
        "    print(f\"Load DS model at {DS_MODEL}...\")\n",
        "    ds_model = fasttext.load_model(DS_MODEL)\n",
        "\n",
        "    # Load test dataset\n",
        "    print(f\"Test dataset at {DATASET}...\")\n",
        "    with open(DATASET, \"r\") as file:\n",
        "        questions = json.load(file)\n",
        "\n",
        "    # Generate distractors\n",
        "    print(\"Generate distractors...\")\n",
        "    dis_results = list()\n",
        "    i = 0\n",
        "    for question in tqdm(questions):\n",
        "        sent = question[\"sentence\"].replace(\"[MASK]\", \"<mask>\").replace(\"\\n\", \"\")\n",
        "        answer = question[\"answer\"]\n",
        "        result = generate_dis(unmasker, ds_model, sent, answer)\n",
        "        dis_result = {\"distractors\": question[\"distractors\"], \"generations\": result}\n",
        "        dis_results.append(dis_result)\n",
        "\n",
        "        i += 1\n",
        "        if i == QUESTION_LIMIT:\n",
        "            break\n",
        "\n",
        "    # Save result\n",
        "    print(f\"Save to 'result_{RESULT}.json'..\")\n",
        "    with open(f\"./results/result_{RESULT}.json\", \"w\") as file:\n",
        "        json.dump(dis_results, file)\n",
        "\n",
        "    print(\"Done!\")\n",
        "\n",
        "\n",
        "# Generate distractors of one question\n",
        "def generate_dis(unmasker, ds_model, sent, answer):\n",
        "    # Answer relating\n",
        "    target_sent = sent + \" </s> \" + answer\n",
        "\n",
        "    # Generate Candidate Set\n",
        "    cs = list()\n",
        "    for cand in unmasker(target_sent):\n",
        "        word = cand[\"token_str\"].replace(\" \", \"\").replace(\"\\n\", \"\")\n",
        "        if len(word) > 0:   # Skip empty\n",
        "            cs.append({\"word\": word, \"s0\": cand[\"score\"], \"s1\": 0.0, \"s2\": 0.0, \"s3\": 0.0})\n",
        "\n",
        "    # Confidence Score s0\n",
        "    s0s = [c[\"s0\"] for c in cs]\n",
        "    new_s0s = min_max_y(s0s)\n",
        "\n",
        "    for i, c in enumerate(cs):\n",
        "        c[\"s0\"] = new_s0s[i]\n",
        "\n",
        "    # Word Embedding Similarity s1\n",
        "    answer_vector = ds_model.get_word_vector(answer)\n",
        "    word_similarities = list()\n",
        "    for c in cs:\n",
        "        c_vector = ds_model.get_word_vector(c[\"word\"])\n",
        "        word_similarity = similarity(answer_vector, c_vector)   # Cosine similarity between A and Di\n",
        "        word_similarities.append(word_similarity)\n",
        "\n",
        "    new_similarities = min_max_y(word_similarities)\n",
        "\n",
        "    for i, c in enumerate(cs):\n",
        "        # print(c[\"word\"], 1-word_similarities[i], 1-new_similarities[i])\n",
        "        c[\"s1\"] = 1-new_similarities[i]\n",
        "\n",
        "    # Contextual-Sentence Embedding Similarity s2\n",
        "    correct_sent = sent.replace('<mask>', answer)\n",
        "    correct_sent_vector = ds_model.get_sentence_vector(correct_sent)\n",
        "\n",
        "    cand_sents = list()\n",
        "    for c in cs:\n",
        "        cand_sents.append(sent.replace('<mask>', c[\"word\"]))\n",
        "\n",
        "    sent_similarities = list()\n",
        "    for cand_sent in cand_sents:\n",
        "        cand_sent_vector = ds_model.get_sentence_vector(cand_sent)\n",
        "        sent_similarity = similarity(correct_sent_vector, cand_sent_vector) # Cosine similarity between S(A) and S(Di)\n",
        "        sent_similarities.append(sent_similarity)\n",
        "\n",
        "    new_similarities = min_max_y(sent_similarities)\n",
        "    for i, c in enumerate(cs):\n",
        "        # print(cand_sents[i], 1-sent_similarities[i], 1-new_similarities[i])\n",
        "        c[\"s2\"] = 1-new_similarities[i]\n",
        "\n",
        "    # POS match score s3\n",
        "    origin_token = word_tokenize(sent)\n",
        "    origin_token.remove(\"<\")\n",
        "    origin_token.remove(\">\")\n",
        "\n",
        "    mask_index = origin_token.index(\"mask\")\n",
        "\n",
        "    correct_token = word_tokenize(correct_sent)\n",
        "    correct_pos = nltk.pos_tag(correct_token)\n",
        "    answer_pos = correct_pos[mask_index]    # POS of A\n",
        "\n",
        "    for i, c in enumerate(cs):\n",
        "        cand_sent_token = word_tokenize(cand_sents[i])\n",
        "        cand_sent_pos = nltk.pos_tag(cand_sent_token)\n",
        "        cand_pos = cand_sent_pos[mask_index]    # POS of Di\n",
        "\n",
        "        if cand_pos[1] == answer_pos[1]:\n",
        "            c[\"s3\"] = 1.0\n",
        "        else:\n",
        "            c[\"s3\"] = 0.0\n",
        "\n",
        "    # Weighted final score\n",
        "    cs_rank = list()\n",
        "    for c in cs:\n",
        "        fs = WEIGHT[\"s0\"]*c[\"s0\"] + WEIGHT[\"s1\"]*c[\"s1\"] + WEIGHT[\"s2\"]*c[\"s2\"] + WEIGHT[\"s3\"]*c[\"s3\"]\n",
        "        cs_rank.append((c[\"word\"], fs))\n",
        "\n",
        "    # Rank by final score\n",
        "    cs_rank.sort(key = lambda x: x[1], reverse=True)\n",
        "\n",
        "    # Top K\n",
        "    result = [d[0] for d in cs_rank[:TOP_K]]\n",
        "\n",
        "    return result\n",
        "\n",
        "\n",
        "# Cosine similarity\n",
        "def similarity(v1, v2):\n",
        "    n1 = np.linalg.norm(v1)\n",
        "    n2 = np.linalg.norm(v2)\n",
        "    if n1 == 0 or n2 == 0:\n",
        "        return 1\n",
        "    else:\n",
        "        return np.dot(v1, v2) / (n1 * n2)\n",
        "\n",
        "\n",
        "# Min–max normalization\n",
        "def min_max_y(raw_data):\n",
        "    min_max_data = []\n",
        "\n",
        "    # Min–max normalization\n",
        "    for d in raw_data:\n",
        "        try:\n",
        "            min_max_data.append((d - min(raw_data)) / (max(raw_data) - min(raw_data)))\n",
        "        except ZeroDivisionError:\n",
        "            min_max_data.append(1)\n",
        "\n",
        "    return min_max_data\n",
        "\n",
        "\n",
        "if __name__ == \"__main__\":\n",
        "    print(\"Distractor Generator (RoBERTa) Start!\")\n",
        "    main()"
      ],
      "metadata": {
        "id": "BKthts10z0Oo"
      },
      "execution_count": null,
      "outputs": []
    }
  ],
  "metadata": {
    "accelerator": "GPU",
    "colab": {
      "provenance": [],
      "gpuType": "T4"
    },
    "gpuClass": "standard",
    "kernelspec": {
      "display_name": "Python 3",
      "name": "python3"
    },
    "widgets": {
      "application/vnd.jupyter.widget-state+json": {
        "18bb7acb10d74d949ab3d3157f63ff8e": {
          "model_module": "@jupyter-widgets/controls",
          "model_name": "HBoxModel",
          "model_module_version": "1.5.0",
          "state": {
            "_dom_classes": [],
            "_model_module": "@jupyter-widgets/controls",
            "_model_module_version": "1.5.0",
            "_model_name": "HBoxModel",
            "_view_count": null,
            "_view_module": "@jupyter-widgets/controls",
            "_view_module_version": "1.5.0",
            "_view_name": "HBoxView",
            "box_style": "",
            "children": [
              "IPY_MODEL_acf62395e82342479e90a93b70bec3d1",
              "IPY_MODEL_90bb1418eae14ef5bb9329da912d3417",
              "IPY_MODEL_0c918028091a473fa36d9a27a7b94cf7"
            ],
            "layout": "IPY_MODEL_8cce861f26fa4b7b93ed30a5e4f4db22"
          }
        },
        "acf62395e82342479e90a93b70bec3d1": {
          "model_module": "@jupyter-widgets/controls",
          "model_name": "HTMLModel",
          "model_module_version": "1.5.0",
          "state": {
            "_dom_classes": [],
            "_model_module": "@jupyter-widgets/controls",
            "_model_module_version": "1.5.0",
            "_model_name": "HTMLModel",
            "_view_count": null,
            "_view_module": "@jupyter-widgets/controls",
            "_view_module_version": "1.5.0",
            "_view_name": "HTMLView",
            "description": "",
            "description_tooltip": null,
            "layout": "IPY_MODEL_7bc73cd8a5454fbb9fafb3c40c8bf8db",
            "placeholder": "​",
            "style": "IPY_MODEL_187ec9d72a334066aeaf6b5c4da57b03",
            "value": "100%"
          }
        },
        "90bb1418eae14ef5bb9329da912d3417": {
          "model_module": "@jupyter-widgets/controls",
          "model_name": "FloatProgressModel",
          "model_module_version": "1.5.0",
          "state": {
            "_dom_classes": [],
            "_model_module": "@jupyter-widgets/controls",
            "_model_module_version": "1.5.0",
            "_model_name": "FloatProgressModel",
            "_view_count": null,
            "_view_module": "@jupyter-widgets/controls",
            "_view_module_version": "1.5.0",
            "_view_name": "ProgressView",
            "bar_style": "success",
            "description": "",
            "description_tooltip": null,
            "layout": "IPY_MODEL_7566d21efde944cc9ac45b5c3d105611",
            "max": 76850,
            "min": 0,
            "orientation": "horizontal",
            "style": "IPY_MODEL_bf6a0123b0874cc683b3fbaa9ef87c52",
            "value": 76850
          }
        },
        "0c918028091a473fa36d9a27a7b94cf7": {
          "model_module": "@jupyter-widgets/controls",
          "model_name": "HTMLModel",
          "model_module_version": "1.5.0",
          "state": {
            "_dom_classes": [],
            "_model_module": "@jupyter-widgets/controls",
            "_model_module_version": "1.5.0",
            "_model_name": "HTMLModel",
            "_view_count": null,
            "_view_module": "@jupyter-widgets/controls",
            "_view_module_version": "1.5.0",
            "_view_name": "HTMLView",
            "description": "",
            "description_tooltip": null,
            "layout": "IPY_MODEL_3aef59a777114bf9b44e528b80083b93",
            "placeholder": "​",
            "style": "IPY_MODEL_2049635e53324c06883d35437ecd2c98",
            "value": " 76850/76850 [00:00&lt;00:00, 347854.05it/s]"
          }
        },
        "8cce861f26fa4b7b93ed30a5e4f4db22": {
          "model_module": "@jupyter-widgets/base",
          "model_name": "LayoutModel",
          "model_module_version": "1.2.0",
          "state": {
            "_model_module": "@jupyter-widgets/base",
            "_model_module_version": "1.2.0",
            "_model_name": "LayoutModel",
            "_view_count": null,
            "_view_module": "@jupyter-widgets/base",
            "_view_module_version": "1.2.0",
            "_view_name": "LayoutView",
            "align_content": null,
            "align_items": null,
            "align_self": null,
            "border": null,
            "bottom": null,
            "display": null,
            "flex": null,
            "flex_flow": null,
            "grid_area": null,
            "grid_auto_columns": null,
            "grid_auto_flow": null,
            "grid_auto_rows": null,
            "grid_column": null,
            "grid_gap": null,
            "grid_row": null,
            "grid_template_areas": null,
            "grid_template_columns": null,
            "grid_template_rows": null,
            "height": null,
            "justify_content": null,
            "justify_items": null,
            "left": null,
            "margin": null,
            "max_height": null,
            "max_width": null,
            "min_height": null,
            "min_width": null,
            "object_fit": null,
            "object_position": null,
            "order": null,
            "overflow": null,
            "overflow_x": null,
            "overflow_y": null,
            "padding": null,
            "right": null,
            "top": null,
            "visibility": null,
            "width": null
          }
        },
        "7bc73cd8a5454fbb9fafb3c40c8bf8db": {
          "model_module": "@jupyter-widgets/base",
          "model_name": "LayoutModel",
          "model_module_version": "1.2.0",
          "state": {
            "_model_module": "@jupyter-widgets/base",
            "_model_module_version": "1.2.0",
            "_model_name": "LayoutModel",
            "_view_count": null,
            "_view_module": "@jupyter-widgets/base",
            "_view_module_version": "1.2.0",
            "_view_name": "LayoutView",
            "align_content": null,
            "align_items": null,
            "align_self": null,
            "border": null,
            "bottom": null,
            "display": null,
            "flex": null,
            "flex_flow": null,
            "grid_area": null,
            "grid_auto_columns": null,
            "grid_auto_flow": null,
            "grid_auto_rows": null,
            "grid_column": null,
            "grid_gap": null,
            "grid_row": null,
            "grid_template_areas": null,
            "grid_template_columns": null,
            "grid_template_rows": null,
            "height": null,
            "justify_content": null,
            "justify_items": null,
            "left": null,
            "margin": null,
            "max_height": null,
            "max_width": null,
            "min_height": null,
            "min_width": null,
            "object_fit": null,
            "object_position": null,
            "order": null,
            "overflow": null,
            "overflow_x": null,
            "overflow_y": null,
            "padding": null,
            "right": null,
            "top": null,
            "visibility": null,
            "width": null
          }
        },
        "187ec9d72a334066aeaf6b5c4da57b03": {
          "model_module": "@jupyter-widgets/controls",
          "model_name": "DescriptionStyleModel",
          "model_module_version": "1.5.0",
          "state": {
            "_model_module": "@jupyter-widgets/controls",
            "_model_module_version": "1.5.0",
            "_model_name": "DescriptionStyleModel",
            "_view_count": null,
            "_view_module": "@jupyter-widgets/base",
            "_view_module_version": "1.2.0",
            "_view_name": "StyleView",
            "description_width": ""
          }
        },
        "7566d21efde944cc9ac45b5c3d105611": {
          "model_module": "@jupyter-widgets/base",
          "model_name": "LayoutModel",
          "model_module_version": "1.2.0",
          "state": {
            "_model_module": "@jupyter-widgets/base",
            "_model_module_version": "1.2.0",
            "_model_name": "LayoutModel",
            "_view_count": null,
            "_view_module": "@jupyter-widgets/base",
            "_view_module_version": "1.2.0",
            "_view_name": "LayoutView",
            "align_content": null,
            "align_items": null,
            "align_self": null,
            "border": null,
            "bottom": null,
            "display": null,
            "flex": null,
            "flex_flow": null,
            "grid_area": null,
            "grid_auto_columns": null,
            "grid_auto_flow": null,
            "grid_auto_rows": null,
            "grid_column": null,
            "grid_gap": null,
            "grid_row": null,
            "grid_template_areas": null,
            "grid_template_columns": null,
            "grid_template_rows": null,
            "height": null,
            "justify_content": null,
            "justify_items": null,
            "left": null,
            "margin": null,
            "max_height": null,
            "max_width": null,
            "min_height": null,
            "min_width": null,
            "object_fit": null,
            "object_position": null,
            "order": null,
            "overflow": null,
            "overflow_x": null,
            "overflow_y": null,
            "padding": null,
            "right": null,
            "top": null,
            "visibility": null,
            "width": null
          }
        },
        "bf6a0123b0874cc683b3fbaa9ef87c52": {
          "model_module": "@jupyter-widgets/controls",
          "model_name": "ProgressStyleModel",
          "model_module_version": "1.5.0",
          "state": {
            "_model_module": "@jupyter-widgets/controls",
            "_model_module_version": "1.5.0",
            "_model_name": "ProgressStyleModel",
            "_view_count": null,
            "_view_module": "@jupyter-widgets/base",
            "_view_module_version": "1.2.0",
            "_view_name": "StyleView",
            "bar_color": null,
            "description_width": ""
          }
        },
        "3aef59a777114bf9b44e528b80083b93": {
          "model_module": "@jupyter-widgets/base",
          "model_name": "LayoutModel",
          "model_module_version": "1.2.0",
          "state": {
            "_model_module": "@jupyter-widgets/base",
            "_model_module_version": "1.2.0",
            "_model_name": "LayoutModel",
            "_view_count": null,
            "_view_module": "@jupyter-widgets/base",
            "_view_module_version": "1.2.0",
            "_view_name": "LayoutView",
            "align_content": null,
            "align_items": null,
            "align_self": null,
            "border": null,
            "bottom": null,
            "display": null,
            "flex": null,
            "flex_flow": null,
            "grid_area": null,
            "grid_auto_columns": null,
            "grid_auto_flow": null,
            "grid_auto_rows": null,
            "grid_column": null,
            "grid_gap": null,
            "grid_row": null,
            "grid_template_areas": null,
            "grid_template_columns": null,
            "grid_template_rows": null,
            "height": null,
            "justify_content": null,
            "justify_items": null,
            "left": null,
            "margin": null,
            "max_height": null,
            "max_width": null,
            "min_height": null,
            "min_width": null,
            "object_fit": null,
            "object_position": null,
            "order": null,
            "overflow": null,
            "overflow_x": null,
            "overflow_y": null,
            "padding": null,
            "right": null,
            "top": null,
            "visibility": null,
            "width": null
          }
        },
        "2049635e53324c06883d35437ecd2c98": {
          "model_module": "@jupyter-widgets/controls",
          "model_name": "DescriptionStyleModel",
          "model_module_version": "1.5.0",
          "state": {
            "_model_module": "@jupyter-widgets/controls",
            "_model_module_version": "1.5.0",
            "_model_name": "DescriptionStyleModel",
            "_view_count": null,
            "_view_module": "@jupyter-widgets/base",
            "_view_module_version": "1.2.0",
            "_view_name": "StyleView",
            "description_width": ""
          }
        },
        "3ae4adba634b48f7901e0c60d0ed136e": {
          "model_module": "@jupyter-widgets/controls",
          "model_name": "HBoxModel",
          "model_module_version": "1.5.0",
          "state": {
            "_dom_classes": [],
            "_model_module": "@jupyter-widgets/controls",
            "_model_module_version": "1.5.0",
            "_model_name": "HBoxModel",
            "_view_count": null,
            "_view_module": "@jupyter-widgets/controls",
            "_view_module_version": "1.5.0",
            "_view_name": "HBoxView",
            "box_style": "",
            "children": [
              "IPY_MODEL_faf092ee6b5c45b9a3f34e47d2dac78d",
              "IPY_MODEL_a510d34b04a64abd8cca444f1ed6b0e5",
              "IPY_MODEL_12aaf70772834972884a57aba8978846"
            ],
            "layout": "IPY_MODEL_03a415e6e68d413ea2102872d1cfeb39"
          }
        },
        "faf092ee6b5c45b9a3f34e47d2dac78d": {
          "model_module": "@jupyter-widgets/controls",
          "model_name": "HTMLModel",
          "model_module_version": "1.5.0",
          "state": {
            "_dom_classes": [],
            "_model_module": "@jupyter-widgets/controls",
            "_model_module_version": "1.5.0",
            "_model_name": "HTMLModel",
            "_view_count": null,
            "_view_module": "@jupyter-widgets/controls",
            "_view_module_version": "1.5.0",
            "_view_name": "HTMLView",
            "description": "",
            "description_tooltip": null,
            "layout": "IPY_MODEL_94110178744d4858a765fafb3281debd",
            "placeholder": "​",
            "style": "IPY_MODEL_4b7666473d154cb6955d26e5b588bc6d",
            "value": "100%"
          }
        },
        "a510d34b04a64abd8cca444f1ed6b0e5": {
          "model_module": "@jupyter-widgets/controls",
          "model_name": "FloatProgressModel",
          "model_module_version": "1.5.0",
          "state": {
            "_dom_classes": [],
            "_model_module": "@jupyter-widgets/controls",
            "_model_module_version": "1.5.0",
            "_model_name": "FloatProgressModel",
            "_view_count": null,
            "_view_module": "@jupyter-widgets/controls",
            "_view_module_version": "1.5.0",
            "_view_name": "ProgressView",
            "bar_style": "",
            "description": "",
            "description_tooltip": null,
            "layout": "IPY_MODEL_7d50c2fd52d648af8ad10c5047f9bd02",
            "max": 3617,
            "min": 0,
            "orientation": "horizontal",
            "style": "IPY_MODEL_5265a5b7a1e04e5b9d7cae14cfcc22b9",
            "value": 3617
          }
        },
        "12aaf70772834972884a57aba8978846": {
          "model_module": "@jupyter-widgets/controls",
          "model_name": "HTMLModel",
          "model_module_version": "1.5.0",
          "state": {
            "_dom_classes": [],
            "_model_module": "@jupyter-widgets/controls",
            "_model_module_version": "1.5.0",
            "_model_name": "HTMLModel",
            "_view_count": null,
            "_view_module": "@jupyter-widgets/controls",
            "_view_module_version": "1.5.0",
            "_view_name": "HTMLView",
            "description": "",
            "description_tooltip": null,
            "layout": "IPY_MODEL_e062424728b24442b00484eb8cb0edb0",
            "placeholder": "​",
            "style": "IPY_MODEL_5071e9437b3741dd97d0b509949b41b2",
            "value": " 3617/3617 [51:50&lt;00:00,  1.46it/s]"
          }
        },
        "03a415e6e68d413ea2102872d1cfeb39": {
          "model_module": "@jupyter-widgets/base",
          "model_name": "LayoutModel",
          "model_module_version": "1.2.0",
          "state": {
            "_model_module": "@jupyter-widgets/base",
            "_model_module_version": "1.2.0",
            "_model_name": "LayoutModel",
            "_view_count": null,
            "_view_module": "@jupyter-widgets/base",
            "_view_module_version": "1.2.0",
            "_view_name": "LayoutView",
            "align_content": null,
            "align_items": null,
            "align_self": null,
            "border": null,
            "bottom": null,
            "display": null,
            "flex": null,
            "flex_flow": null,
            "grid_area": null,
            "grid_auto_columns": null,
            "grid_auto_flow": null,
            "grid_auto_rows": null,
            "grid_column": null,
            "grid_gap": null,
            "grid_row": null,
            "grid_template_areas": null,
            "grid_template_columns": null,
            "grid_template_rows": null,
            "height": null,
            "justify_content": null,
            "justify_items": null,
            "left": null,
            "margin": null,
            "max_height": null,
            "max_width": null,
            "min_height": null,
            "min_width": null,
            "object_fit": null,
            "object_position": null,
            "order": null,
            "overflow": null,
            "overflow_x": null,
            "overflow_y": null,
            "padding": null,
            "right": null,
            "top": null,
            "visibility": null,
            "width": null
          }
        },
        "94110178744d4858a765fafb3281debd": {
          "model_module": "@jupyter-widgets/base",
          "model_name": "LayoutModel",
          "model_module_version": "1.2.0",
          "state": {
            "_model_module": "@jupyter-widgets/base",
            "_model_module_version": "1.2.0",
            "_model_name": "LayoutModel",
            "_view_count": null,
            "_view_module": "@jupyter-widgets/base",
            "_view_module_version": "1.2.0",
            "_view_name": "LayoutView",
            "align_content": null,
            "align_items": null,
            "align_self": null,
            "border": null,
            "bottom": null,
            "display": null,
            "flex": null,
            "flex_flow": null,
            "grid_area": null,
            "grid_auto_columns": null,
            "grid_auto_flow": null,
            "grid_auto_rows": null,
            "grid_column": null,
            "grid_gap": null,
            "grid_row": null,
            "grid_template_areas": null,
            "grid_template_columns": null,
            "grid_template_rows": null,
            "height": null,
            "justify_content": null,
            "justify_items": null,
            "left": null,
            "margin": null,
            "max_height": null,
            "max_width": null,
            "min_height": null,
            "min_width": null,
            "object_fit": null,
            "object_position": null,
            "order": null,
            "overflow": null,
            "overflow_x": null,
            "overflow_y": null,
            "padding": null,
            "right": null,
            "top": null,
            "visibility": null,
            "width": null
          }
        },
        "4b7666473d154cb6955d26e5b588bc6d": {
          "model_module": "@jupyter-widgets/controls",
          "model_name": "DescriptionStyleModel",
          "model_module_version": "1.5.0",
          "state": {
            "_model_module": "@jupyter-widgets/controls",
            "_model_module_version": "1.5.0",
            "_model_name": "DescriptionStyleModel",
            "_view_count": null,
            "_view_module": "@jupyter-widgets/base",
            "_view_module_version": "1.2.0",
            "_view_name": "StyleView",
            "description_width": ""
          }
        },
        "7d50c2fd52d648af8ad10c5047f9bd02": {
          "model_module": "@jupyter-widgets/base",
          "model_name": "LayoutModel",
          "model_module_version": "1.2.0",
          "state": {
            "_model_module": "@jupyter-widgets/base",
            "_model_module_version": "1.2.0",
            "_model_name": "LayoutModel",
            "_view_count": null,
            "_view_module": "@jupyter-widgets/base",
            "_view_module_version": "1.2.0",
            "_view_name": "LayoutView",
            "align_content": null,
            "align_items": null,
            "align_self": null,
            "border": null,
            "bottom": null,
            "display": null,
            "flex": null,
            "flex_flow": null,
            "grid_area": null,
            "grid_auto_columns": null,
            "grid_auto_flow": null,
            "grid_auto_rows": null,
            "grid_column": null,
            "grid_gap": null,
            "grid_row": null,
            "grid_template_areas": null,
            "grid_template_columns": null,
            "grid_template_rows": null,
            "height": null,
            "justify_content": null,
            "justify_items": null,
            "left": null,
            "margin": null,
            "max_height": null,
            "max_width": null,
            "min_height": null,
            "min_width": null,
            "object_fit": null,
            "object_position": null,
            "order": null,
            "overflow": null,
            "overflow_x": null,
            "overflow_y": null,
            "padding": null,
            "right": null,
            "top": null,
            "visibility": null,
            "width": null
          }
        },
        "5265a5b7a1e04e5b9d7cae14cfcc22b9": {
          "model_module": "@jupyter-widgets/controls",
          "model_name": "ProgressStyleModel",
          "model_module_version": "1.5.0",
          "state": {
            "_model_module": "@jupyter-widgets/controls",
            "_model_module_version": "1.5.0",
            "_model_name": "ProgressStyleModel",
            "_view_count": null,
            "_view_module": "@jupyter-widgets/base",
            "_view_module_version": "1.2.0",
            "_view_name": "StyleView",
            "bar_color": null,
            "description_width": ""
          }
        },
        "e062424728b24442b00484eb8cb0edb0": {
          "model_module": "@jupyter-widgets/base",
          "model_name": "LayoutModel",
          "model_module_version": "1.2.0",
          "state": {
            "_model_module": "@jupyter-widgets/base",
            "_model_module_version": "1.2.0",
            "_model_name": "LayoutModel",
            "_view_count": null,
            "_view_module": "@jupyter-widgets/base",
            "_view_module_version": "1.2.0",
            "_view_name": "LayoutView",
            "align_content": null,
            "align_items": null,
            "align_self": null,
            "border": null,
            "bottom": null,
            "display": null,
            "flex": null,
            "flex_flow": null,
            "grid_area": null,
            "grid_auto_columns": null,
            "grid_auto_flow": null,
            "grid_auto_rows": null,
            "grid_column": null,
            "grid_gap": null,
            "grid_row": null,
            "grid_template_areas": null,
            "grid_template_columns": null,
            "grid_template_rows": null,
            "height": null,
            "justify_content": null,
            "justify_items": null,
            "left": null,
            "margin": null,
            "max_height": null,
            "max_width": null,
            "min_height": null,
            "min_width": null,
            "object_fit": null,
            "object_position": null,
            "order": null,
            "overflow": null,
            "overflow_x": null,
            "overflow_y": null,
            "padding": null,
            "right": null,
            "top": null,
            "visibility": null,
            "width": null
          }
        },
        "5071e9437b3741dd97d0b509949b41b2": {
          "model_module": "@jupyter-widgets/controls",
          "model_name": "DescriptionStyleModel",
          "model_module_version": "1.5.0",
          "state": {
            "_model_module": "@jupyter-widgets/controls",
            "_model_module_version": "1.5.0",
            "_model_name": "DescriptionStyleModel",
            "_view_count": null,
            "_view_module": "@jupyter-widgets/base",
            "_view_module_version": "1.2.0",
            "_view_name": "StyleView",
            "description_width": ""
          }
        }
      }
    }
  },
  "nbformat": 4,
  "nbformat_minor": 0
}